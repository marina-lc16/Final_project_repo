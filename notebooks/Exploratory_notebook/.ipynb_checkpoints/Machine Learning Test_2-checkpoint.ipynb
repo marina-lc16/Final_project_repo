{
 "cells": [
  {
   "cell_type": "markdown",
   "id": "5aca4ae6-081e-4a3b-98b9-6fd9da29e91b",
   "metadata": {},
   "source": [
    "# MACHINE LEARNING TRAINING"
   ]
  },
  {
   "cell_type": "markdown",
   "id": "e69fc031-bac7-4e2c-b94a-5dd23837ab29",
   "metadata": {},
   "source": [
    "## Table of contents\n",
    "\n",
    "1. [Project information](#1.-Project-Information)\n",
    "\n",
    "2. [Finding all variables and understanding them](#2.-Finding-all-variables-and-understanding-them)\n",
    "\n",
    "3. [Modelling](#3.-Modelling)\n",
    "\n",
    "4. [Machine Learning models](#4.-Machine-Learning-models)\n",
    "\n",
    "5. [Hyperparameter tuning](#5.-Hyperparameter-tuning)\n",
    "\n",
    "6. [Results](#6.-Results)\n",
    "   \n",
    "8. [Results visualization](#7.-Results-visualization)"
   ]
  },
  {
   "cell_type": "markdown",
   "id": "8a043a62-330d-4241-97c6-ed8225d483b7",
   "metadata": {},
   "source": [
    "## <font color='blue'>1. Project information</font> "
   ]
  },
  {
   "cell_type": "markdown",
   "id": "4273f72c-2167-446f-98d9-fd153014e92e",
   "metadata": {},
   "source": [
    "This project is a second part adding now \"machine learning\" models in the anylisis.\n",
    "\n",
    "In the past analysis, I took my first Exploratory Data Analysis (EDA) and visualization project using Python and Tableau, where I explored data science jobs titles and salaries between 2020 and 2023. \n",
    "\n",
    "The \"global salary index\" dataset comes from the ai-jobs.net website for roles in the AI, ML, Data Science space based on internal data obtained from surveys and jobs with open salaries.\n",
    "\n",
    "This dataset is processed and updated on a weekly basis, but I took the dataset updated on September 29th, 2023."
   ]
  },
  {
   "cell_type": "markdown",
   "id": "6724c03e-4ac7-4948-b0d7-bd2a413d92c6",
   "metadata": {},
   "source": [
    "## <font color='blue'>2. Finding all variables and understanding them</font>"
   ]
  },
  {
   "cell_type": "markdown",
   "id": "b35f9dd8-e395-4c50-8ce6-89bf4c024c70",
   "metadata": {},
   "source": [
    "### Importing Required Libraries"
   ]
  },
  {
   "cell_type": "code",
   "execution_count": 1,
   "id": "09ddb090-b409-4607-9c65-8a7b43660cbf",
   "metadata": {},
   "outputs": [],
   "source": [
    "import pandas as pd\n",
    "import numpy as np\n",
    "import matplotlib.pyplot as plt\n",
    "import matplotlib.ticker as ticker\n",
    "import seaborn as sns\n",
    "import pycountry\n",
    "from pycountry import countries\n",
    "sns.set_theme()\n",
    "import warnings\n",
    "import pickle\n",
    "\n",
    "%matplotlib inline"
   ]
  },
  {
   "cell_type": "code",
   "execution_count": 2,
   "id": "35bab5dd-47cf-44ed-ae9b-d6bff21f6371",
   "metadata": {},
   "outputs": [],
   "source": [
    "from sklearn.model_selection import train_test_split\n",
    "from sklearn.linear_model import LinearRegression\n",
    "from sklearn.ensemble import RandomForestRegressor\n",
    "from sklearn.metrics import mean_squared_error, mean_absolute_error, r2_score\n",
    "\n",
    "from sklearn.ensemble import RandomForestRegressor\n",
    "from sklearn.ensemble import GradientBoostingRegressor\n",
    "from sklearn.ensemble import AdaBoostRegressor\n",
    "from sklearn.neighbors import KNeighborsRegressor\n",
    "from sklearn import neighbors\n",
    "from sklearn.metrics import mean_squared_error, mean_absolute_error, r2_score\n",
    "from sklearn.model_selection import GridSearchCV\n"
   ]
  },
  {
   "cell_type": "markdown",
   "id": "76a45cd1-738d-4478-bd6e-82811a30a83f",
   "metadata": {},
   "source": [
    "### Read dataset"
   ]
  },
  {
   "cell_type": "code",
   "execution_count": 3,
   "id": "ab107dd7-0771-4a97-a051-dc769399f842",
   "metadata": {},
   "outputs": [
    {
     "data": {
      "text/html": [
       "<div>\n",
       "<style scoped>\n",
       "    .dataframe tbody tr th:only-of-type {\n",
       "        vertical-align: middle;\n",
       "    }\n",
       "\n",
       "    .dataframe tbody tr th {\n",
       "        vertical-align: top;\n",
       "    }\n",
       "\n",
       "    .dataframe thead th {\n",
       "        text-align: right;\n",
       "    }\n",
       "</style>\n",
       "<table border=\"1\" class=\"dataframe\">\n",
       "  <thead>\n",
       "    <tr style=\"text-align: right;\">\n",
       "      <th></th>\n",
       "      <th>work_year</th>\n",
       "      <th>salary</th>\n",
       "      <th>experience_level</th>\n",
       "      <th>employment_type</th>\n",
       "      <th>job_title</th>\n",
       "      <th>employee_residence</th>\n",
       "      <th>remote_ratio</th>\n",
       "      <th>company_location</th>\n",
       "      <th>company_size</th>\n",
       "      <th>job_area</th>\n",
       "    </tr>\n",
       "  </thead>\n",
       "  <tbody>\n",
       "    <tr>\n",
       "      <th>0</th>\n",
       "      <td>2023</td>\n",
       "      <td>96313</td>\n",
       "      <td>mid</td>\n",
       "      <td>full_time</td>\n",
       "      <td>Data Scientist</td>\n",
       "      <td>Canada</td>\n",
       "      <td>remote</td>\n",
       "      <td>Canada</td>\n",
       "      <td>small</td>\n",
       "      <td>Data</td>\n",
       "    </tr>\n",
       "    <tr>\n",
       "      <th>1</th>\n",
       "      <td>2023</td>\n",
       "      <td>250000</td>\n",
       "      <td>senior</td>\n",
       "      <td>full_time</td>\n",
       "      <td>Machine Learning Engineer</td>\n",
       "      <td>United States</td>\n",
       "      <td>on_site</td>\n",
       "      <td>United States</td>\n",
       "      <td>medium</td>\n",
       "      <td>Machine Learning</td>\n",
       "    </tr>\n",
       "    <tr>\n",
       "      <th>2</th>\n",
       "      <td>2023</td>\n",
       "      <td>140000</td>\n",
       "      <td>senior</td>\n",
       "      <td>full_time</td>\n",
       "      <td>Machine Learning Engineer</td>\n",
       "      <td>United States</td>\n",
       "      <td>on_site</td>\n",
       "      <td>United States</td>\n",
       "      <td>medium</td>\n",
       "      <td>Machine Learning</td>\n",
       "    </tr>\n",
       "    <tr>\n",
       "      <th>3</th>\n",
       "      <td>2023</td>\n",
       "      <td>48585</td>\n",
       "      <td>mid</td>\n",
       "      <td>full_time</td>\n",
       "      <td>Data Analyst</td>\n",
       "      <td>Portugal</td>\n",
       "      <td>remote</td>\n",
       "      <td>Portugal</td>\n",
       "      <td>medium</td>\n",
       "      <td>Data</td>\n",
       "    </tr>\n",
       "    <tr>\n",
       "      <th>4</th>\n",
       "      <td>2023</td>\n",
       "      <td>43187</td>\n",
       "      <td>mid</td>\n",
       "      <td>full_time</td>\n",
       "      <td>Data Analyst</td>\n",
       "      <td>Portugal</td>\n",
       "      <td>remote</td>\n",
       "      <td>Portugal</td>\n",
       "      <td>medium</td>\n",
       "      <td>Data</td>\n",
       "    </tr>\n",
       "  </tbody>\n",
       "</table>\n",
       "</div>"
      ],
      "text/plain": [
       "   work_year  salary experience_level employment_type  \\\n",
       "0       2023   96313              mid       full_time   \n",
       "1       2023  250000           senior       full_time   \n",
       "2       2023  140000           senior       full_time   \n",
       "3       2023   48585              mid       full_time   \n",
       "4       2023   43187              mid       full_time   \n",
       "\n",
       "                   job_title employee_residence remote_ratio company_location  \\\n",
       "0             Data Scientist             Canada       remote           Canada   \n",
       "1  Machine Learning Engineer      United States      on_site    United States   \n",
       "2  Machine Learning Engineer      United States      on_site    United States   \n",
       "3               Data Analyst           Portugal       remote         Portugal   \n",
       "4               Data Analyst           Portugal       remote         Portugal   \n",
       "\n",
       "  company_size          job_area  \n",
       "0        small              Data  \n",
       "1       medium  Machine Learning  \n",
       "2       medium  Machine Learning  \n",
       "3       medium              Data  \n",
       "4       medium              Data  "
      ]
     },
     "execution_count": 3,
     "metadata": {},
     "output_type": "execute_result"
    }
   ],
   "source": [
    "salaries = pd.read_csv('../../data/cleaned/data_jobs.csv')\n",
    "salaries.head(5)"
   ]
  },
  {
   "cell_type": "code",
   "execution_count": 4,
   "id": "7da18ef9-ab16-4117-be55-5a248882b9b9",
   "metadata": {},
   "outputs": [
    {
     "data": {
      "text/plain": [
       "(7595, 10)"
      ]
     },
     "execution_count": 4,
     "metadata": {},
     "output_type": "execute_result"
    }
   ],
   "source": [
    "salaries.shape"
   ]
  },
  {
   "cell_type": "code",
   "execution_count": 5,
   "id": "37c1f0db-edec-4ac2-bfbe-8a14607a21cf",
   "metadata": {
    "scrolled": true
   },
   "outputs": [
    {
     "data": {
      "text/plain": [
       "work_year              int64\n",
       "salary                 int64\n",
       "experience_level      object\n",
       "employment_type       object\n",
       "job_title             object\n",
       "employee_residence    object\n",
       "remote_ratio          object\n",
       "company_location      object\n",
       "company_size          object\n",
       "job_area              object\n",
       "dtype: object"
      ]
     },
     "execution_count": 5,
     "metadata": {},
     "output_type": "execute_result"
    }
   ],
   "source": [
    "salaries.dtypes"
   ]
  },
  {
   "cell_type": "code",
   "execution_count": 6,
   "id": "3f0c96b5-3a45-4e8a-822c-d7c9a1a21d8c",
   "metadata": {},
   "outputs": [
    {
     "data": {
      "text/plain": [
       "Index(['work_year', 'salary', 'experience_level', 'employment_type',\n",
       "       'job_title', 'employee_residence', 'remote_ratio', 'company_location',\n",
       "       'company_size', 'job_area'],\n",
       "      dtype='object')"
      ]
     },
     "execution_count": 6,
     "metadata": {},
     "output_type": "execute_result"
    }
   ],
   "source": [
    "salaries.columns"
   ]
  },
  {
   "cell_type": "markdown",
   "id": "87d9619f-2c53-420d-9d24-4e281c1271fb",
   "metadata": {},
   "source": [
    "**Data Dictionary**\n",
    "\n",
    "- **work_year**: The year the salary was paid;\n",
    "- **salary**: The salary in USD;\n",
    "- **experience_level**: The experience level in the job during the year;\n",
    "- **employment_type**: The type of employement for the role;\n",
    "- **job_title**: The role worked in during the year;\n",
    "- **employee_residence**: Employee's primary country of residence in during the work year;\n",
    "- **remote_ratio**: The overall amount of work done remotely;\n",
    "- **company_location**: The country of the employer's main office or contracting branch;\n",
    "- **company_size**: The average number of people that worked for the company during the year.\n",
    "- **job_area**: job_titles grouped by area"
   ]
  },
  {
   "cell_type": "markdown",
   "id": "ef7b2a39-9291-481b-bd7d-768c1c345dfa",
   "metadata": {},
   "source": [
    "### Data Cleaning"
   ]
  },
  {
   "cell_type": "markdown",
   "id": "21548747-9262-47c7-af66-7e752f8eb0c4",
   "metadata": {},
   "source": [
    "The dataset < salaries > is already clean, it was cleaned in the first stage of the EDA + visualization project."
   ]
  },
  {
   "cell_type": "markdown",
   "id": "972e73fe-d520-4765-abcb-2e66e6b6ecdb",
   "metadata": {},
   "source": [
    "#### Adding some analysis features"
   ]
  },
  {
   "cell_type": "code",
   "execution_count": 7,
   "id": "0caf25f0-0567-47df-9b55-5d612fa2bf5a",
   "metadata": {
    "scrolled": true
   },
   "outputs": [
    {
     "data": {
      "text/plain": [
       "work_year              int64\n",
       "salary                 int64\n",
       "experience_level      object\n",
       "employment_type       object\n",
       "job_title             object\n",
       "employee_residence    object\n",
       "remote_ratio          object\n",
       "company_location      object\n",
       "company_size          object\n",
       "job_area              object\n",
       "dtype: object"
      ]
     },
     "execution_count": 7,
     "metadata": {},
     "output_type": "execute_result"
    }
   ],
   "source": [
    "salaries.dtypes"
   ]
  },
  {
   "cell_type": "code",
   "execution_count": 8,
   "id": "4814120f-d537-488a-b281-31a6d3c3f9c3",
   "metadata": {},
   "outputs": [],
   "source": [
    "# Convert columns string to float\n",
    "salaries['work_year'] = salaries['work_year'].astype(float)\n",
    "salaries['salary'] = salaries['salary'].astype(float)"
   ]
  },
  {
   "cell_type": "code",
   "execution_count": 9,
   "id": "5b5b604a-b716-4e32-971b-ef4adc6366a7",
   "metadata": {},
   "outputs": [
    {
     "data": {
      "text/plain": [
       "work_year             float64\n",
       "salary                float64\n",
       "experience_level       object\n",
       "employment_type        object\n",
       "job_title              object\n",
       "employee_residence     object\n",
       "remote_ratio           object\n",
       "company_location       object\n",
       "company_size           object\n",
       "job_area               object\n",
       "dtype: object"
      ]
     },
     "execution_count": 9,
     "metadata": {},
     "output_type": "execute_result"
    }
   ],
   "source": [
    "#Dtypes after conversion\n",
    "salaries.dtypes"
   ]
  },
  {
   "cell_type": "markdown",
   "id": "b5c93f64-7084-4d23-983c-66cf0d317425",
   "metadata": {},
   "source": [
    "___"
   ]
  },
  {
   "cell_type": "markdown",
   "id": "3c14707d-efc4-4617-95d6-eea34dcd62b3",
   "metadata": {},
   "source": [
    "## <font color='blue'>3. Modelling</font>"
   ]
  },
  {
   "cell_type": "markdown",
   "id": "78cce372-fa24-483f-b16d-b475ac1d8cce",
   "metadata": {},
   "source": [
    "Now that the EDA (Exploratory Data Analysis) is complete, we can dive straight into the modeling phase."
   ]
  },
  {
   "cell_type": "markdown",
   "id": "b650dbb4-8ea3-4a44-9be8-d1409de7d0cb",
   "metadata": {},
   "source": [
    "### Model training"
   ]
  },
  {
   "cell_type": "markdown",
   "id": "ce652665-8a0d-4c65-86eb-ee8cb3f85b19",
   "metadata": {},
   "source": [
    "**Predicting salaries using machine learning models is a common task in data science, we can do it using Pandas and Scikit-Learn.**"
   ]
  },
  {
   "cell_type": "markdown",
   "id": "f54b1f2d-0fdc-4ccc-8165-9c3aabe55b9a",
   "metadata": {},
   "source": [
    "Split the data into a training set and a test set to evaluate the model's performance."
   ]
  },
  {
   "cell_type": "code",
   "execution_count": 10,
   "id": "d9a2533d-f3e3-4908-b5cd-567793e99f8a",
   "metadata": {},
   "outputs": [
    {
     "name": "stdout",
     "output_type": "stream",
     "text": [
      "Categorical columns in the data: ['experience_level', 'employment_type', 'job_title', 'employee_residence', 'remote_ratio', 'company_location', 'company_size', 'job_area']\n"
     ]
    }
   ],
   "source": [
    "# Identify categorical columns based on data type\n",
    "categorical_col = salaries.select_dtypes(include=['object']).columns.tolist()\n",
    "print(\"Categorical columns in the data:\", categorical_col)"
   ]
  },
  {
   "cell_type": "code",
   "execution_count": 11,
   "id": "9639e94e-11f4-42d1-a1ec-ce7b8089d69a",
   "metadata": {},
   "outputs": [
    {
     "name": "stdout",
     "output_type": "stream",
     "text": [
      "numerical columns in data: ['work_year', 'salary']\n"
     ]
    }
   ],
   "source": [
    "# Identify numerical columns based on data type\n",
    "numerical_col = salaries.select_dtypes(include=np.number).columns.tolist()\n",
    "print(\"numerical columns in data:\", numerical_col)"
   ]
  },
  {
   "cell_type": "markdown",
   "id": "1fcca36c-4657-4e4e-9512-976ccaee13e8",
   "metadata": {},
   "source": [
    "#### Correlation matrix"
   ]
  },
  {
   "cell_type": "code",
   "execution_count": 12,
   "id": "c54b8a1a-eef6-46f5-990c-2887b5983595",
   "metadata": {},
   "outputs": [
    {
     "data": {
      "image/png": "[encoded data removed]",
      "text/plain": [
       "<Figure size 400x200 with 2 Axes>"
      ]
     },
     "metadata": {},
     "output_type": "display_data"
    }
   ],
   "source": [
    "# Select only the numerical columns from the DataFrame\n",
    "numerical_data = salaries[numerical_col]\n",
    "\n",
    "# Compute the correlation matrix\n",
    "correlation_matrix_num = numerical_data.corr()\n",
    "\n",
    "# Create a heatmap with colors\n",
    "plt.figure(figsize=(4, 2))\n",
    "sns.heatmap(correlation_matrix_num, annot=True, cmap='PuBu', linewidths=0.5)\n",
    "plt.title('Correlation Heatmap')\n",
    "plt.show()"
   ]
  },
  {
   "cell_type": "code",
   "execution_count": 13,
   "id": "fa2aa393-22f1-4407-b234-f7e2a49cb434",
   "metadata": {},
   "outputs": [
    {
     "data": {
      "text/plain": [
       "<seaborn.axisgrid.PairGrid at 0x14fee3b90>"
      ]
     },
     "execution_count": 13,
     "metadata": {},
     "output_type": "execute_result"
    },
    {
     "data": {
      "image/png": "[encoded data removed]",
      "text/plain": [
       "<Figure size 500x500 with 6 Axes>"
      ]
     },
     "metadata": {},
     "output_type": "display_data"
    }
   ],
   "source": [
    "sns.pairplot(salaries[numerical_col])"
   ]
  },
  {
   "cell_type": "markdown",
   "id": "c4a1164f-bc21-46df-b706-d9e0b036ce31",
   "metadata": {},
   "source": [
    "There are no linear relationship between features and salary"
   ]
  },
  {
   "attachments": {},
   "cell_type": "markdown",
   "id": "018e33be-7b33-467c-a5ce-52167fc20c0e",
   "metadata": {},
   "source": [
    "## <font color='blue'>4. Machine Learning models</font>"
   ]
  },
  {
   "cell_type": "markdown",
   "id": "cd481c72-7ba5-4bfa-9f28-bbb0bfc9466c",
   "metadata": {},
   "source": [
    "#### Encode Categorical Features"
   ]
  },
  {
   "cell_type": "code",
   "execution_count": 14,
   "id": "52dc0e3e-b893-4ffc-b192-2ff2c7126704",
   "metadata": {},
   "outputs": [
    {
     "name": "stderr",
     "output_type": "stream",
     "text": [
      "/Users/marina/Documents/Marina/Bootcamp/Week_9/Final_project/final_env/lib/python3.11/site-packages/sklearn/preprocessing/_encoders.py:975: FutureWarning: `sparse` was renamed to `sparse_output` in version 1.2 and will be removed in 1.4. `sparse_output` is ignored unless you leave `sparse` to its default value.\n",
      "  warnings.warn(\n"
     ]
    }
   ],
   "source": [
    "# Encode categorical features using one-hot encoding\n",
    "from sklearn.preprocessing import OneHotEncoder\n",
    "\n",
    "# Apply one-hot encoding to the categorical features\n",
    "encoder = OneHotEncoder(sparse=False, drop='first')\n",
    "encoded_features = encoder.fit_transform(salaries[categorical_col])\n",
    "\n",
    "# Create a DataFrame with the one-hot encoded features and appropriate column names\n",
    "encoded_df = pd.DataFrame(encoded_features, columns=encoder.get_feature_names_out(categorical_col))\n",
    "\n",
    "# Combine the one-hot encoded features with the numerical features\n",
    "X = pd.concat([encoded_df, salaries[['work_year']]], axis=1)"
   ]
  },
  {
   "cell_type": "markdown",
   "id": "115a9490-8ba7-40b0-877a-90d902dedaaf",
   "metadata": {},
   "source": [
    "#### Split the data into features (X) and target variable (y=salary)"
   ]
  },
  {
   "cell_type": "code",
   "execution_count": 15,
   "id": "cd10acd5-0ab9-40ac-a579-fe7ba8146fba",
   "metadata": {},
   "outputs": [],
   "source": [
    "y = salaries['salary']\n",
    "\n",
    "X_train, X_test, y_train, y_test = train_test_split(X, y, test_size=0.2, random_state=42)"
   ]
  },
  {
   "cell_type": "code",
   "execution_count": 16,
   "id": "ba1efdbc-2f8d-42f2-8ff5-644e9bc5eedd",
   "metadata": {},
   "outputs": [
    {
     "name": "stdout",
     "output_type": "stream",
     "text": [
      "(6076, 287)\n",
      "(1519, 287)\n",
      "(6076,)\n",
      "(1519,)\n"
     ]
    }
   ],
   "source": [
    "print(X_train.shape)\n",
    "print(X_test.shape)\n",
    "print(y_train.shape)\n",
    "print(y_test.shape)"
   ]
  },
  {
   "attachments": {},
   "cell_type": "markdown",
   "id": "5b40df22-5793-4402-9bae-f5827f7cfceb",
   "metadata": {},
   "source": [
    "## RandomForest/GradientBoosting/AdaBoost/KNNessor\r\n"
   ]
  },
  {
   "cell_type": "markdown",
   "id": "fc99dda5-dedf-42dc-8294-92181f01711a",
   "metadata": {},
   "source": [
    "Machine learning models choosen:\n",
    "\n",
    "- **Random Forest Regressor:**\n",
    "\n",
    "Random Forest is a versatile ensemble model that works well for regression tasks, including salary prediction. It has the ability to handle both numerical and categorical features, which can be common in salary datasets. Random Forests are known for their robustness, resistance to overfitting, and the ability to capture complex relationships in the data. They are also capable of feature importance analysis, which can help identify the factors that most strongly influence salaries.\n",
    "\n",
    "- **Gradient Boosting Regressor:**\n",
    "\n",
    "Gradient Boosting is another ensemble method that is well-suited for regression problems. It builds an ensemble of weak learners, combining them to create a strong predictive model. It can handle non-linear relationships in the data and adapt to the specific patterns in the salary dataset. Gradient Boosting is often used when high predictive accuracy is a priority, and it can provide excellent results after proper hyperparameter tuning.\n",
    "\n",
    "- **Ada Boost Regressor:**\n",
    "\n",
    "Ada Boost is an ensemble technique that is useful when the data is noisy and the relationships between features and salaries are not straightforward. It focuses on improving the performance of weak learners, and when applied to regression tasks, it can be effective in situations where data is heterogeneous or when there are outliers in the salary dataset. Ada Boost can adapt well to different data distributions and enhance model performance.\n",
    "\n",
    "- **K-Nearest Neighbors (KNN):**\n",
    "\n",
    "KNN is a simple and interpretable model that can be used for salary prediction, especially when the data has a clear spatial or geographic component. It assigns salaries based on the similarity of instances in the dataset, which can be useful in cases where local or neighborhood patterns play a significant role in determining salaries. KNN can be a good choice when the salary prediction task depends on the characteristics of similar individuals.\n"
   ]
  },
  {
   "cell_type": "markdown",
   "id": "ce65a06d-bfe9-4acd-9dcf-006843e54354",
   "metadata": {},
   "source": [
    "#### Fit models"
   ]
  },
  {
   "cell_type": "code",
   "execution_count": 17,
   "id": "04f289bd-353f-4e68-a565-f47fb7acaf6b",
   "metadata": {},
   "outputs": [],
   "source": [
    "# Fit models\n",
    "\n",
    "rf=RandomForestRegressor().fit(X_train,y_train)\n",
    "gbm=GradientBoostingRegressor().fit(X_train,y_train)\n",
    "ada=AdaBoostRegressor().fit(X_train,y_train)\n",
    "knn=KNeighborsRegressor().fit(X_train,y_train)"
   ]
  },
  {
   "cell_type": "markdown",
   "id": "db2975b4-750d-429c-a626-427dd9430cbc",
   "metadata": {},
   "source": [
    "#### Save fit models"
   ]
  },
  {
   "cell_type": "code",
   "execution_count": 18,
   "id": "a92672b2-0d98-421b-b9f3-37a1ecd67c45",
   "metadata": {},
   "outputs": [],
   "source": [
    "# Define the file path to save the model\n",
    "rf_save_model = '../../models/rf.pkl'\n",
    "\n",
    "# Save the fitted model to the file using pickle\n",
    "with open(rf_save_model, 'wb') as model_file:\n",
    "    pickle.dump(rf_save_model, model_file)"
   ]
  },
  {
   "cell_type": "code",
   "execution_count": 19,
   "id": "55e8a9c2-bfc2-4a36-9765-80421f5c5638",
   "metadata": {},
   "outputs": [],
   "source": [
    "# Define the file path to save the model\n",
    "gbm_save_model = '../../models/gbm.pkl'\n",
    "\n",
    "# Save the fitted model to the file using pickle\n",
    "with open(gbm_save_model, 'wb') as model_file:\n",
    "    pickle.dump(gbm_save_model, model_file)"
   ]
  },
  {
   "cell_type": "code",
   "execution_count": 20,
   "id": "27ff4be5-48cc-4142-adf5-87f81089a918",
   "metadata": {},
   "outputs": [],
   "source": [
    "# Define the file path to save the model\n",
    "ada_save_model = '../../models/ada.pkl'\n",
    "\n",
    "# Save the fitted model to the file using pickle\n",
    "with open(ada_save_model, 'wb') as model_file:\n",
    "    pickle.dump(ada_save_model, model_file)"
   ]
  },
  {
   "cell_type": "code",
   "execution_count": 21,
   "id": "5a827dfd-0aeb-42d5-91df-a7c76c5f853a",
   "metadata": {},
   "outputs": [],
   "source": [
    "# Define the file path to save the model\n",
    "knn_save_model = '../../models/knn.pkl'\n",
    "\n",
    "# Save the fitted model to the file using pickle\n",
    "with open(knn_save_model, 'wb') as model_file:\n",
    "    pickle.dump(knn_save_model, model_file)"
   ]
  },
  {
   "cell_type": "markdown",
   "id": "aa2bfca8-ba5a-4f83-89ac-712e44b07e3e",
   "metadata": {},
   "source": [
    "#### Evaluate models"
   ]
  },
  {
   "cell_type": "code",
   "execution_count": 22,
   "id": "a3a0305f-5fcf-47ef-bb7b-488250a898c1",
   "metadata": {},
   "outputs": [],
   "source": [
    "models=[rf,gbm,ada,knn]"
   ]
  },
  {
   "cell_type": "code",
   "execution_count": 23,
   "id": "f9dc734c-0b81-45c2-bed4-729ce0c1cde4",
   "metadata": {},
   "outputs": [],
   "source": [
    "# Define a function to predict models\n",
    "\n",
    "def evaluate_machine_learning(y,models): \n",
    "    y_pred=models.predict(X_test)\n",
    "    mse=mean_squared_error(y_test,y_pred)\n",
    "    rmse=np.sqrt(mean_squared_error(y_test,y_pred))\n",
    "    r2=r2_score(y_test,y_pred)*100\n",
    "    \n",
    "    return mse,rmse,r2"
   ]
  },
  {
   "cell_type": "code",
   "execution_count": 24,
   "id": "4c9a657d-1dc6-4c69-9f61-a859e1be0f2b",
   "metadata": {},
   "outputs": [
    {
     "name": "stdout",
     "output_type": "stream",
     "text": [
      "Different models success rates:\n",
      "-------------------------------\n",
      "Model:  RandomForestRegressor\n",
      "MSE 2639232534.69\n",
      "RMSE 51373.46\n",
      "R2 36.91\n",
      "-------------------------------\n",
      "Model:  GradientBoostingRegressor\n",
      "MSE 2694688771.24\n",
      "RMSE 51910.39\n",
      "R2 35.59\n",
      "-------------------------------\n",
      "Model:  AdaBoostRegressor\n",
      "MSE 3438642571.86\n",
      "RMSE 58639.94\n",
      "R2 17.80\n",
      "-------------------------------\n",
      "Model:  KNeighborsRegressor\n",
      "MSE 3009562876.28\n",
      "RMSE 54859.48\n",
      "R2 28.06\n",
      "-------------------------------\n"
     ]
    }
   ],
   "source": [
    "#Apply the function to each machine learning model\n",
    "\n",
    "data = {\n",
    "    'Model': [\"RandomForestRegressor\", \"GradientBoostingRegressor\", \"AdaBoostRegressor\", \"KNeighborsRegressor\"],\n",
    "    'MSE': [],\n",
    "    'RMSE': [],\n",
    "    'R-squared': []\n",
    "}\n",
    "\n",
    "print(\"Different models success rates:\")\n",
    "print(\"-------------------------------\")\n",
    "for model, name in list(zip(models, data['Model'])):\n",
    "    mse, rmse, r2 = evaluate_machine_learning(\"salary\",model)\n",
    "    data['MSE'].append(mse)\n",
    "    data['RMSE'].append(rmse)\n",
    "    data['R-squared'].append(r2)\n",
    "    print(\"Model: \",name)\n",
    "    print(\"MSE {:.2f}\".format(mse))\n",
    "    print(\"RMSE {:.2f}\".format(rmse))\n",
    "    print(\"R2 {:.2f}\".format(r2))\n",
    "    print(\"-------------------------------\")"
   ]
  },
  {
   "cell_type": "code",
   "execution_count": 25,
   "id": "1f0b9476-71f5-40b1-bbe8-625a8004e0ed",
   "metadata": {},
   "outputs": [
    {
     "data": {
      "text/html": [
       "<div>\n",
       "<style scoped>\n",
       "    .dataframe tbody tr th:only-of-type {\n",
       "        vertical-align: middle;\n",
       "    }\n",
       "\n",
       "    .dataframe tbody tr th {\n",
       "        vertical-align: top;\n",
       "    }\n",
       "\n",
       "    .dataframe thead th {\n",
       "        text-align: right;\n",
       "    }\n",
       "</style>\n",
       "<table border=\"1\" class=\"dataframe\">\n",
       "  <thead>\n",
       "    <tr style=\"text-align: right;\">\n",
       "      <th></th>\n",
       "      <th>Model</th>\n",
       "      <th>MSE</th>\n",
       "      <th>RMSE</th>\n",
       "      <th>R-squared</th>\n",
       "    </tr>\n",
       "  </thead>\n",
       "  <tbody>\n",
       "    <tr>\n",
       "      <th>0</th>\n",
       "      <td>RandomForestRegressor</td>\n",
       "      <td>2.639233e+09</td>\n",
       "      <td>51373.46</td>\n",
       "      <td>36.91</td>\n",
       "    </tr>\n",
       "    <tr>\n",
       "      <th>1</th>\n",
       "      <td>GradientBoostingRegressor</td>\n",
       "      <td>2.694689e+09</td>\n",
       "      <td>51910.39</td>\n",
       "      <td>35.59</td>\n",
       "    </tr>\n",
       "    <tr>\n",
       "      <th>2</th>\n",
       "      <td>AdaBoostRegressor</td>\n",
       "      <td>3.438643e+09</td>\n",
       "      <td>58639.94</td>\n",
       "      <td>17.80</td>\n",
       "    </tr>\n",
       "    <tr>\n",
       "      <th>3</th>\n",
       "      <td>KNeighborsRegressor</td>\n",
       "      <td>3.009563e+09</td>\n",
       "      <td>54859.48</td>\n",
       "      <td>28.06</td>\n",
       "    </tr>\n",
       "  </tbody>\n",
       "</table>\n",
       "</div>"
      ],
      "text/plain": [
       "                       Model           MSE      RMSE  R-squared\n",
       "0      RandomForestRegressor  2.639233e+09  51373.46      36.91\n",
       "1  GradientBoostingRegressor  2.694689e+09  51910.39      35.59\n",
       "2          AdaBoostRegressor  3.438643e+09  58639.94      17.80\n",
       "3        KNeighborsRegressor  3.009563e+09  54859.48      28.06"
      ]
     },
     "metadata": {},
     "output_type": "display_data"
    }
   ],
   "source": [
    "# Create table with scores\n",
    "\n",
    "# Create a DataFrame from the dictionary\n",
    "scores_df = pd.DataFrame(data)\n",
    "\n",
    "scores_df = scores_df.round(2)\n",
    "\n",
    "# Print the DataFrame\n",
    "display(scores_df)"
   ]
  },
  {
   "cell_type": "markdown",
   "id": "a7ad03a0-6242-4e0b-9e84-2bff5a5218d6",
   "metadata": {},
   "source": [
    "#### Analysis"
   ]
  },
  {
   "cell_type": "markdown",
   "id": "c7b70bc3-af57-44a3-b003-5378fde174be",
   "metadata": {},
   "source": [
    "Based on the provided evaluation metrics, the models can be ranked from best to worst performance as follows:\n",
    "\n",
    "- RandomForestRegressor:\n",
    "This model achieved the lowest MSE of approximately. That indicates that it performed the best among the models in terms of minimizing the squared errors.\n",
    "It also has the highest R-squared value of approximately 36,91%, suggesting better predictive performance.\n",
    "\n",
    "- GradientBoostingRegressor:\n",
    "Slightly higher MSE than the RandomForestRegressor. It still performs well and has an R-squared value of approximately 35.91%.\n",
    "\n",
    "- AdaBoostRegressor:\n",
    "Highest MSE. One with the worst performance among the other models. It also has the lowest R-squared value of approximately 17.802%, indicating that it explains the least variance in the target variable.\n",
    "\n",
    "- KNeighborsRegressor:\n",
    "Higher MSE compared to the RandomForest and GradientBoosting models, indicating somewhat worse performance. Its R-squared value is approximately 28.06%."
   ]
  },
  {
   "cell_type": "markdown",
   "id": "c883f5e3-f0ed-401a-ae2d-88973145d858",
   "metadata": {
    "jp-MarkdownHeadingCollapsed": true
   },
   "source": [
    "**The RandomForestRegressor and GradientBoostingRegressor models seem to perform the best for the salary prediction task**. \n",
    "\n",
    "RandomForestRegressor, in particular, has the lowest MSE and the highest R-squared value, making it the top choice for this specific regression task. \n",
    "\n",
    "However, **it's essential to consider hyperparameter tuning** when choosing the final model for our application."
   ]
  },
  {
   "cell_type": "markdown",
   "id": "b0c12ba3-410e-43d0-889c-bfa3e6222e11",
   "metadata": {},
   "source": [
    "____"
   ]
  },
  {
   "cell_type": "markdown",
   "id": "e7b915d0-82ef-43ca-9de3-7b5f53553b9c",
   "metadata": {},
   "source": [
    "## <font color='blue'>5. Hyperparameter tuning</font>"
   ]
  },
  {
   "cell_type": "markdown",
   "id": "5c054e8f-fa42-4932-847b-727e82c62a7c",
   "metadata": {},
   "source": [
    "Hyperparameter tuning can significantly improve the performance of machine learning models so we will apply ot on the models with the best performance."
   ]
  },
  {
   "cell_type": "markdown",
   "id": "f2dbb1e7-c5bd-4e69-a9ae-a090b8324eee",
   "metadata": {},
   "source": [
    "## RandomForestRegressor:"
   ]
  },
  {
   "cell_type": "markdown",
   "id": "9cd56d18-75f9-49fd-8c1d-92fab952c04b",
   "metadata": {},
   "source": [
    "Random Forests have several hyperparameters that can be tuned, such as the number of estimators (trees) and the maximum depth of the trees.\n",
    "\n",
    "We will use the Grid Search technique to find the best combination of hyperparameters. "
   ]
  },
  {
   "cell_type": "markdown",
   "id": "b4ccaa81-0533-40c1-bb6a-dcc205028410",
   "metadata": {},
   "source": [
    "GridSearchCV: We will use it for systematically exploring hyperparameter configurations, improving model performance, and making the model selection and tuning process more efficient and effective."
   ]
  },
  {
   "cell_type": "code",
   "execution_count": 26,
   "id": "c25c5c33-502d-458f-8c61-e7c6aacbbe43",
   "metadata": {},
   "outputs": [],
   "source": [
    "param_grid = {\n",
    "    'n_estimators': [100, 200, 300],\n",
    "    'max_depth': [4, 7, 10],\n",
    "}\n",
    "\n",
    "rf_model = RandomForestRegressor()\n",
    "grid_search = GridSearchCV(rf_model, param_grid, cv=5, scoring='neg_mean_squared_error')\n",
    "grid_search.fit(X_train, y_train)\n",
    "\n",
    "best_rf_model = grid_search.best_estimator_"
   ]
  },
  {
   "cell_type": "markdown",
   "id": "99879bd3-6048-46ad-bd8b-b1e1539ba344",
   "metadata": {},
   "source": [
    "## GradientBoostingRegressor:"
   ]
  },
  {
   "cell_type": "code",
   "execution_count": 27,
   "id": "9c5c147a-6ece-4e57-98ff-7f948f2a4c90",
   "metadata": {},
   "outputs": [],
   "source": [
    "param_grid = {\n",
    "    'n_estimators': [100, 200, 300],\n",
    "    'learning_rate': [0.01, 0.1, 0.2],\n",
    "    'max_depth': [3, 4, 5],\n",
    "}\n",
    "\n",
    "gb_model = GradientBoostingRegressor()\n",
    "grid_search = GridSearchCV(gb_model, param_grid, cv=5, scoring='neg_mean_squared_error')\n",
    "grid_search.fit(X_train, y_train)\n",
    "\n",
    "best_gb_model = grid_search.best_estimator_"
   ]
  },
  {
   "cell_type": "markdown",
   "id": "6f828c04-8bb1-45fd-92c8-b51af5ea928a",
   "metadata": {},
   "source": [
    "After tuning, we need to re-evaluate the model's performance to see if the MSE and R-squared values have improved."
   ]
  },
  {
   "cell_type": "code",
   "execution_count": 28,
   "id": "20d4f1ea-27f5-404e-9d96-788547efd698",
   "metadata": {},
   "outputs": [
    {
     "data": {
      "text/html": [
       "<style>#sk-container-id-1 {color: black;}#sk-container-id-1 pre{padding: 0;}#sk-container-id-1 div.sk-toggleable {background-color: white;}#sk-container-id-1 label.sk-toggleable__label {cursor: pointer;display: block;width: 100%;margin-bottom: 0;padding: 0.3em;box-sizing: border-box;text-align: center;}#sk-container-id-1 label.sk-toggleable__label-arrow:before {content: \"▸\";float: left;margin-right: 0.25em;color: #696969;}#sk-container-id-1 label.sk-toggleable__label-arrow:hover:before {color: black;}#sk-container-id-1 div.sk-estimator:hover label.sk-toggleable__label-arrow:before {color: black;}#sk-container-id-1 div.sk-toggleable__content {max-height: 0;max-width: 0;overflow: hidden;text-align: left;background-color: #f0f8ff;}#sk-container-id-1 div.sk-toggleable__content pre {margin: 0.2em;color: black;border-radius: 0.25em;background-color: #f0f8ff;}#sk-container-id-1 input.sk-toggleable__control:checked~div.sk-toggleable__content {max-height: 200px;max-width: 100%;overflow: auto;}#sk-container-id-1 input.sk-toggleable__control:checked~label.sk-toggleable__label-arrow:before {content: \"▾\";}#sk-container-id-1 div.sk-estimator input.sk-toggleable__control:checked~label.sk-toggleable__label {background-color: #d4ebff;}#sk-container-id-1 div.sk-label input.sk-toggleable__control:checked~label.sk-toggleable__label {background-color: #d4ebff;}#sk-container-id-1 input.sk-hidden--visually {border: 0;clip: rect(1px 1px 1px 1px);clip: rect(1px, 1px, 1px, 1px);height: 1px;margin: -1px;overflow: hidden;padding: 0;position: absolute;width: 1px;}#sk-container-id-1 div.sk-estimator {font-family: monospace;background-color: #f0f8ff;border: 1px dotted black;border-radius: 0.25em;box-sizing: border-box;margin-bottom: 0.5em;}#sk-container-id-1 div.sk-estimator:hover {background-color: #d4ebff;}#sk-container-id-1 div.sk-parallel-item::after {content: \"\";width: 100%;border-bottom: 1px solid gray;flex-grow: 1;}#sk-container-id-1 div.sk-label:hover label.sk-toggleable__label {background-color: #d4ebff;}#sk-container-id-1 div.sk-serial::before {content: \"\";position: absolute;border-left: 1px solid gray;box-sizing: border-box;top: 0;bottom: 0;left: 50%;z-index: 0;}#sk-container-id-1 div.sk-serial {display: flex;flex-direction: column;align-items: center;background-color: white;padding-right: 0.2em;padding-left: 0.2em;position: relative;}#sk-container-id-1 div.sk-item {position: relative;z-index: 1;}#sk-container-id-1 div.sk-parallel {display: flex;align-items: stretch;justify-content: center;background-color: white;position: relative;}#sk-container-id-1 div.sk-item::before, #sk-container-id-1 div.sk-parallel-item::before {content: \"\";position: absolute;border-left: 1px solid gray;box-sizing: border-box;top: 0;bottom: 0;left: 50%;z-index: -1;}#sk-container-id-1 div.sk-parallel-item {display: flex;flex-direction: column;z-index: 1;position: relative;background-color: white;}#sk-container-id-1 div.sk-parallel-item:first-child::after {align-self: flex-end;width: 50%;}#sk-container-id-1 div.sk-parallel-item:last-child::after {align-self: flex-start;width: 50%;}#sk-container-id-1 div.sk-parallel-item:only-child::after {width: 0;}#sk-container-id-1 div.sk-dashed-wrapped {border: 1px dashed gray;margin: 0 0.4em 0.5em 0.4em;box-sizing: border-box;padding-bottom: 0.4em;background-color: white;}#sk-container-id-1 div.sk-label label {font-family: monospace;font-weight: bold;display: inline-block;line-height: 1.2em;}#sk-container-id-1 div.sk-label-container {text-align: center;}#sk-container-id-1 div.sk-container {/* jupyter's `normalize.less` sets `[hidden] { display: none; }` but bootstrap.min.css set `[hidden] { display: none !important; }` so we also need the `!important` here to be able to override the default hidden behavior on the sphinx rendered scikit-learn.org. See: https://github.com/scikit-learn/scikit-learn/issues/21755 */display: inline-block !important;position: relative;}#sk-container-id-1 div.sk-text-repr-fallback {display: none;}</style><div id=\"sk-container-id-1\" class=\"sk-top-container\"><div class=\"sk-text-repr-fallback\"><pre>RandomForestRegressor(max_depth=10, n_estimators=300)</pre><b>In a Jupyter environment, please rerun this cell to show the HTML representation or trust the notebook. <br />On GitHub, the HTML representation is unable to render, please try loading this page with nbviewer.org.</b></div><div class=\"sk-container\" hidden><div class=\"sk-item\"><div class=\"sk-estimator sk-toggleable\"><input class=\"sk-toggleable__control sk-hidden--visually\" id=\"sk-estimator-id-1\" type=\"checkbox\" checked><label for=\"sk-estimator-id-1\" class=\"sk-toggleable__label sk-toggleable__label-arrow\">RandomForestRegressor</label><div class=\"sk-toggleable__content\"><pre>RandomForestRegressor(max_depth=10, n_estimators=300)</pre></div></div></div></div></div>"
      ],
      "text/plain": [
       "RandomForestRegressor(max_depth=10, n_estimators=300)"
      ]
     },
     "execution_count": 28,
     "metadata": {},
     "output_type": "execute_result"
    }
   ],
   "source": [
    "# Fit the models with the best hyperparameters on the training data\n",
    "best_rf_model.fit(X_train, y_train)"
   ]
  },
  {
   "cell_type": "code",
   "execution_count": 29,
   "id": "8965db96-3eb8-4651-b4d9-a3ebe0bd74a3",
   "metadata": {},
   "outputs": [],
   "source": [
    "best_rf_model_path = '../../models/best_rf.pkl'\n",
    "\n",
    "# Save the fitted model to the file using pickle\n",
    "with open(best_rf_model_path, 'wb') as model_file:\n",
    "    pickle.dump(best_rf_model_path, model_file)"
   ]
  },
  {
   "cell_type": "code",
   "execution_count": 30,
   "id": "88938c99-9293-4cea-90e6-f92c119735f9",
   "metadata": {},
   "outputs": [
    {
     "data": {
      "text/html": [
       "<style>#sk-container-id-2 {color: black;}#sk-container-id-2 pre{padding: 0;}#sk-container-id-2 div.sk-toggleable {background-color: white;}#sk-container-id-2 label.sk-toggleable__label {cursor: pointer;display: block;width: 100%;margin-bottom: 0;padding: 0.3em;box-sizing: border-box;text-align: center;}#sk-container-id-2 label.sk-toggleable__label-arrow:before {content: \"▸\";float: left;margin-right: 0.25em;color: #696969;}#sk-container-id-2 label.sk-toggleable__label-arrow:hover:before {color: black;}#sk-container-id-2 div.sk-estimator:hover label.sk-toggleable__label-arrow:before {color: black;}#sk-container-id-2 div.sk-toggleable__content {max-height: 0;max-width: 0;overflow: hidden;text-align: left;background-color: #f0f8ff;}#sk-container-id-2 div.sk-toggleable__content pre {margin: 0.2em;color: black;border-radius: 0.25em;background-color: #f0f8ff;}#sk-container-id-2 input.sk-toggleable__control:checked~div.sk-toggleable__content {max-height: 200px;max-width: 100%;overflow: auto;}#sk-container-id-2 input.sk-toggleable__control:checked~label.sk-toggleable__label-arrow:before {content: \"▾\";}#sk-container-id-2 div.sk-estimator input.sk-toggleable__control:checked~label.sk-toggleable__label {background-color: #d4ebff;}#sk-container-id-2 div.sk-label input.sk-toggleable__control:checked~label.sk-toggleable__label {background-color: #d4ebff;}#sk-container-id-2 input.sk-hidden--visually {border: 0;clip: rect(1px 1px 1px 1px);clip: rect(1px, 1px, 1px, 1px);height: 1px;margin: -1px;overflow: hidden;padding: 0;position: absolute;width: 1px;}#sk-container-id-2 div.sk-estimator {font-family: monospace;background-color: #f0f8ff;border: 1px dotted black;border-radius: 0.25em;box-sizing: border-box;margin-bottom: 0.5em;}#sk-container-id-2 div.sk-estimator:hover {background-color: #d4ebff;}#sk-container-id-2 div.sk-parallel-item::after {content: \"\";width: 100%;border-bottom: 1px solid gray;flex-grow: 1;}#sk-container-id-2 div.sk-label:hover label.sk-toggleable__label {background-color: #d4ebff;}#sk-container-id-2 div.sk-serial::before {content: \"\";position: absolute;border-left: 1px solid gray;box-sizing: border-box;top: 0;bottom: 0;left: 50%;z-index: 0;}#sk-container-id-2 div.sk-serial {display: flex;flex-direction: column;align-items: center;background-color: white;padding-right: 0.2em;padding-left: 0.2em;position: relative;}#sk-container-id-2 div.sk-item {position: relative;z-index: 1;}#sk-container-id-2 div.sk-parallel {display: flex;align-items: stretch;justify-content: center;background-color: white;position: relative;}#sk-container-id-2 div.sk-item::before, #sk-container-id-2 div.sk-parallel-item::before {content: \"\";position: absolute;border-left: 1px solid gray;box-sizing: border-box;top: 0;bottom: 0;left: 50%;z-index: -1;}#sk-container-id-2 div.sk-parallel-item {display: flex;flex-direction: column;z-index: 1;position: relative;background-color: white;}#sk-container-id-2 div.sk-parallel-item:first-child::after {align-self: flex-end;width: 50%;}#sk-container-id-2 div.sk-parallel-item:last-child::after {align-self: flex-start;width: 50%;}#sk-container-id-2 div.sk-parallel-item:only-child::after {width: 0;}#sk-container-id-2 div.sk-dashed-wrapped {border: 1px dashed gray;margin: 0 0.4em 0.5em 0.4em;box-sizing: border-box;padding-bottom: 0.4em;background-color: white;}#sk-container-id-2 div.sk-label label {font-family: monospace;font-weight: bold;display: inline-block;line-height: 1.2em;}#sk-container-id-2 div.sk-label-container {text-align: center;}#sk-container-id-2 div.sk-container {/* jupyter's `normalize.less` sets `[hidden] { display: none; }` but bootstrap.min.css set `[hidden] { display: none !important; }` so we also need the `!important` here to be able to override the default hidden behavior on the sphinx rendered scikit-learn.org. See: https://github.com/scikit-learn/scikit-learn/issues/21755 */display: inline-block !important;position: relative;}#sk-container-id-2 div.sk-text-repr-fallback {display: none;}</style><div id=\"sk-container-id-2\" class=\"sk-top-container\"><div class=\"sk-text-repr-fallback\"><pre>GradientBoostingRegressor(learning_rate=0.2, max_depth=5)</pre><b>In a Jupyter environment, please rerun this cell to show the HTML representation or trust the notebook. <br />On GitHub, the HTML representation is unable to render, please try loading this page with nbviewer.org.</b></div><div class=\"sk-container\" hidden><div class=\"sk-item\"><div class=\"sk-estimator sk-toggleable\"><input class=\"sk-toggleable__control sk-hidden--visually\" id=\"sk-estimator-id-2\" type=\"checkbox\" checked><label for=\"sk-estimator-id-2\" class=\"sk-toggleable__label sk-toggleable__label-arrow\">GradientBoostingRegressor</label><div class=\"sk-toggleable__content\"><pre>GradientBoostingRegressor(learning_rate=0.2, max_depth=5)</pre></div></div></div></div></div>"
      ],
      "text/plain": [
       "GradientBoostingRegressor(learning_rate=0.2, max_depth=5)"
      ]
     },
     "execution_count": 30,
     "metadata": {},
     "output_type": "execute_result"
    }
   ],
   "source": [
    "best_gb_model.fit(X_train, y_train)"
   ]
  },
  {
   "cell_type": "code",
   "execution_count": 31,
   "id": "2aa6d215-7c88-4b28-b5b4-ebddaa3b4698",
   "metadata": {},
   "outputs": [],
   "source": [
    "best_gb_model_path = '../../models/best_gb.pkl'\n",
    "\n",
    "# Save the fitted model to the file using pickle\n",
    "with open(best_gb_model_path, 'wb') as model_file:\n",
    "    pickle.dump(best_gb_model_path, model_file)"
   ]
  },
  {
   "cell_type": "code",
   "execution_count": 32,
   "id": "d8a7baa7-53bf-4a17-8f92-c0a870320a42",
   "metadata": {},
   "outputs": [],
   "source": [
    "models_hyper=[best_rf_model, best_gb_model]"
   ]
  },
  {
   "cell_type": "code",
   "execution_count": 34,
   "id": "9504c1c1-4ed4-41ef-bff2-979335a0cde2",
   "metadata": {},
   "outputs": [
    {
     "name": "stdout",
     "output_type": "stream",
     "text": [
      "Different models success rates:\n",
      "-------------------------------\n",
      "Model:  RandomForestRegressor\n",
      "MSE 2699700025.27\n",
      "RMSE 51958.64\n",
      "R2 35.47\n",
      "-------------------------------\n",
      "Model:  GradientBoostingRegressor\n",
      "MSE 2641080468.58\n",
      "RMSE 51391.44\n",
      "R2 36.87\n",
      "-------------------------------\n"
     ]
    }
   ],
   "source": [
    "#Apply the function to each machine learning model\n",
    "\n",
    "data_hyper = {\n",
    "    'Model': [\"RandomForestRegressor\", \"GradientBoostingRegressor\"],\n",
    "    'MSE': [],\n",
    "    'RMSE': [],\n",
    "    'R-squared': []\n",
    "}\n",
    "\n",
    "print(\"Different models success rates:\")\n",
    "print(\"-------------------------------\")\n",
    "for model, name in list(zip(models_hyper, data_hyper['Model'])):\n",
    "    mse, rmse, r2 = evaluate_machine_learning(\"salary\",model)\n",
    "    data['MSE'].append(mse)\n",
    "    data['RMSE'].append(rmse)\n",
    "    data['R-squared'].append(r2)\n",
    "    print(\"Model: \",name)\n",
    "    print(\"MSE {:.2f}\".format(mse))\n",
    "    print(\"RMSE {:.2f}\".format(rmse))\n",
    "    print(\"R2 {:.2f}\".format(r2))\n",
    "    print(\"-------------------------------\")"
   ]
  },
  {
   "cell_type": "markdown",
   "id": "23388428-2cd5-4214-bf7a-722e2d39ee20",
   "metadata": {},
   "source": [
    "___"
   ]
  },
  {
   "cell_type": "markdown",
   "id": "9548648c-5e00-4f18-8c47-f6812f6753a4",
   "metadata": {},
   "source": [
    "#### Comparison before and after using hyperparameters"
   ]
  },
  {
   "cell_type": "markdown",
   "id": "dde060a5-8dd6-4023-843c-3543d8d6f858",
   "metadata": {},
   "source": [
    "Before Hyperparameter Tuning:\n",
    "\n",
    "Model:  RandomForestRegressor\n",
    "- MSE 2639232534.69\n",
    "- RMSE 51373.46\n",
    "- R2 36.91%\n",
    "\n",
    "Model:  GradientBoostingRegressor\n",
    "- MSE 2694688771.24\n",
    "- RMSE 51910.39\n",
    "- R2 35.59%\n",
    "\n",
    "After Hyperparameter Tuning:\n",
    "\n",
    "Model:  RandomForestRegressor\n",
    "- MSE 2699700025.27\n",
    "- RMSE 51958.64\n",
    "- R2 35.47\n",
    "\n",
    "Model:  GradientBoostingRegressor\n",
    "- MSE 2641080468.58\n",
    "- RMSE 51391.44\n",
    "- R2 36.87"
   ]
  },
  {
   "cell_type": "code",
   "execution_count": 35,
   "id": "73d896b4-b23a-494a-b2e4-a6cf2f6972b2",
   "metadata": {},
   "outputs": [
    {
     "data": {
      "text/html": [
       "<div>\n",
       "<style scoped>\n",
       "    .dataframe tbody tr th:only-of-type {\n",
       "        vertical-align: middle;\n",
       "    }\n",
       "\n",
       "    .dataframe tbody tr th {\n",
       "        vertical-align: top;\n",
       "    }\n",
       "\n",
       "    .dataframe thead th {\n",
       "        text-align: right;\n",
       "    }\n",
       "</style>\n",
       "<table border=\"1\" class=\"dataframe\">\n",
       "  <thead>\n",
       "    <tr style=\"text-align: right;\">\n",
       "      <th></th>\n",
       "      <th>Model</th>\n",
       "      <th>Tuning</th>\n",
       "      <th>MSE</th>\n",
       "      <th>RMSE</th>\n",
       "      <th>R-squared</th>\n",
       "    </tr>\n",
       "  </thead>\n",
       "  <tbody>\n",
       "    <tr>\n",
       "      <th>0</th>\n",
       "      <td>RandomForestRegressor</td>\n",
       "      <td>Before</td>\n",
       "      <td>2.639233e+09</td>\n",
       "      <td>51373.46</td>\n",
       "      <td>36.91</td>\n",
       "    </tr>\n",
       "    <tr>\n",
       "      <th>1</th>\n",
       "      <td>RandomForestRegressor</td>\n",
       "      <td>After</td>\n",
       "      <td>2.699700e+09</td>\n",
       "      <td>51958.64</td>\n",
       "      <td>35.47</td>\n",
       "    </tr>\n",
       "    <tr>\n",
       "      <th>2</th>\n",
       "      <td>GradientBoostingRegressor</td>\n",
       "      <td>Before</td>\n",
       "      <td>2.694689e+09</td>\n",
       "      <td>51910.39</td>\n",
       "      <td>35.59</td>\n",
       "    </tr>\n",
       "    <tr>\n",
       "      <th>3</th>\n",
       "      <td>GradientBoostingRegressor</td>\n",
       "      <td>After</td>\n",
       "      <td>2.641080e+09</td>\n",
       "      <td>51391.44</td>\n",
       "      <td>36.87</td>\n",
       "    </tr>\n",
       "  </tbody>\n",
       "</table>\n",
       "</div>"
      ],
      "text/plain": [
       "                       Model  Tuning           MSE      RMSE  R-squared\n",
       "0      RandomForestRegressor  Before  2.639233e+09  51373.46      36.91\n",
       "1      RandomForestRegressor   After  2.699700e+09  51958.64      35.47\n",
       "2  GradientBoostingRegressor  Before  2.694689e+09  51910.39      35.59\n",
       "3  GradientBoostingRegressor   After  2.641080e+09  51391.44      36.87"
      ]
     },
     "metadata": {},
     "output_type": "display_data"
    }
   ],
   "source": [
    "# Create a table to compare results\n",
    "\n",
    "# We need to create a dictionary with the model names and their corresponding scores\n",
    "data = {\n",
    "    'Model': [\"RandomForestRegressor\", \"RandomForestRegressor\", \"GradientBoostingRegressor\", \"GradientBoostingRegressor\"],\n",
    "    'Tuning': [\"Before\", \"After\", \"Before\", \"After\"],\n",
    "    'MSE': [2639232534.69, 2699700025.27, 2694688771.24, 2641080468.58],\n",
    "    'RMSE': [51373.46, 51958.64, 51910.39, 51391.44],\n",
    "    'R-squared': [36.91, 35.47, 35.59, 36.87]\n",
    "}\n",
    "\n",
    "# Create a DataFrame from the dictionary\n",
    "comparison_df = pd.DataFrame(data)\n",
    "\n",
    "# Print the DataFrame\n",
    "display(comparison_df)"
   ]
  },
  {
   "cell_type": "markdown",
   "id": "03e63c0e-407b-4694-8fe1-d72f84969c1c",
   "metadata": {},
   "source": [
    "## <font color='blue'>6. Results</font>"
   ]
  },
  {
   "cell_type": "markdown",
   "id": "0a6fca4a-dbb8-465a-8d77-4d06fa03a8ef",
   "metadata": {},
   "source": [
    "These results represent the model performance after hyperparameter tuning. Hyperparameter tuning involves finding the best set of hyperparameters to optimize the model's performance. It's important to note that while hyperparameter tuning has improved some aspects of the models, the changes are relatively small.\n",
    "\n",
    "- The \"RandomForestRegressor\" model performed better before hyperparameter tuning, as it had a lower MSE and RMSE and a higher R-squared compared to the \"GradientBoostingRegressor.\"\n",
    "\n",
    "- However, after hyperparameter tuning, the \"GradientBoostingRegressor\" model showed better performance with a lower MSE and RMSE and a higher R-squared.\n",
    "\n",
    "So, after hyperparameter tuning, **the \"GradientBoostingRegressor\" model seems to perform better** in terms of MSE, RMSE, and R-squared."
   ]
  },
  {
   "cell_type": "markdown",
   "id": "162fb7d0-4cb3-4d91-ae75-ffad18eec3e8",
   "metadata": {},
   "source": [
    "## <font color='blue'>7. Results visualization</font>"
   ]
  },
  {
   "cell_type": "code",
   "execution_count": 56,
   "id": "9eda4da1-ef1d-4d48-8f51-82b376d97ef6",
   "metadata": {},
   "outputs": [
    {
     "data": {
      "image/png": "[encoded data removed]",
      "text/plain": [
       "<Figure size 800x400 with 1 Axes>"
      ]
     },
     "metadata": {},
     "output_type": "display_data"
    },
    {
     "data": {
      "image/png": "[encoded data removed]",
      "text/plain": [
       "<Figure size 800x400 with 1 Axes>"
      ]
     },
     "metadata": {},
     "output_type": "display_data"
    },
    {
     "data": {
      "image/png": "[encoded data removed]",
      "text/plain": [
       "<Figure size 800x400 with 1 Axes>"
      ]
     },
     "metadata": {},
     "output_type": "display_data"
    }
   ],
   "source": [
    "# Set the style for the plot (optional)\n",
    "sns.set(style=\"whitegrid\")\n",
    "\n",
    "# Create a barplot to compare the models based on MSE, with hue for tuning\n",
    "plt.figure(figsize=(8, 4))\n",
    "sns.barplot(x=\"Model\", y=\"MSE\", hue=\"Tuning\", data=comparison_df, palette=\"ch:s=.25,rot=-.25\")\n",
    "plt.title(\"Model Comparison Based on MSE\")\n",
    "plt.xlabel(\"Model\")\n",
    "plt.ylabel(\"Mean Squared Error (MSE)\")\n",
    "plt.tight_layout()\n",
    "\n",
    "# Show the plot\n",
    "plt.show()\n",
    "\n",
    "# Create a barplot to compare the models based on RMSE, with hue for tuning\n",
    "plt.figure(figsize=(8, 4))\n",
    "sns.barplot(x=\"Model\", y=\"RMSE\", hue=\"Tuning\", data=comparison_df, palette=\"ch:s=.25,rot=-.25\")\n",
    "plt.title(\"Model Comparison Based on RMSE\")\n",
    "plt.xlabel(\"Model\")\n",
    "plt.ylabel(\"Root Mean Squared Error (RMSE)\")\n",
    "plt.tight_layout()\n",
    "\n",
    "# Show the plot\n",
    "plt.show()\n",
    "\n",
    "# Create a barplot to compare the models based on R-squared, with hue for tuning\n",
    "plt.figure(figsize=(8, 4))\n",
    "sns.barplot(x=\"Model\", y=\"R-squared\", hue=\"Tuning\", data=comparison_df, palette=\"ch:s=.25,rot=-.25\")\n",
    "plt.title(\"Model Comparison Based on R-squared\")\n",
    "plt.xlabel(\"Model\")\n",
    "plt.ylabel(\"R-squared\")\n",
    "plt.tight_layout()\n",
    "\n",
    "# Show the plot\n",
    "plt.show()"
   ]
  },
  {
   "cell_type": "markdown",
   "id": "b6e40f62-6e74-4d2b-aecc-e1270f5a565d",
   "metadata": {},
   "source": [
    "#### Sort feature_importances from the best model performance"
   ]
  },
  {
   "cell_type": "code",
   "execution_count": 42,
   "id": "cba49e1c-ee8d-4fd6-8740-886125e6db14",
   "metadata": {},
   "outputs": [],
   "source": [
    "# Sort feature_importances from the best model perfomance\n",
    "\n",
    "feature_importances = list(zip(best_gb_model.feature_importances_.tolist(), list(X_train.columns)))\n",
    "feature_importances = sorted(feature_importances, reverse=True)\n",
    "feature_importances = [ (round(elem[0],3), elem[1]) for elem in feature_importances if elem[0] > 0.001]\n",
    "feature_importances_df = pd.DataFrame(feature_importances, columns=[\"Importance\", \"column\"])"
   ]
  },
  {
   "cell_type": "code",
   "execution_count": 43,
   "id": "a3db24cd-116e-4eb6-b200-6166a8491a74",
   "metadata": {},
   "outputs": [
    {
     "data": {
      "text/html": [
       "<div>\n",
       "<style scoped>\n",
       "    .dataframe tbody tr th:only-of-type {\n",
       "        vertical-align: middle;\n",
       "    }\n",
       "\n",
       "    .dataframe tbody tr th {\n",
       "        vertical-align: top;\n",
       "    }\n",
       "\n",
       "    .dataframe thead th {\n",
       "        text-align: right;\n",
       "    }\n",
       "</style>\n",
       "<table border=\"1\" class=\"dataframe\">\n",
       "  <thead>\n",
       "    <tr style=\"text-align: right;\">\n",
       "      <th></th>\n",
       "      <th>Importance</th>\n",
       "      <th>column</th>\n",
       "    </tr>\n",
       "  </thead>\n",
       "  <tbody>\n",
       "    <tr>\n",
       "      <th>0</th>\n",
       "      <td>0.289</td>\n",
       "      <td>employee_residence_United States</td>\n",
       "    </tr>\n",
       "    <tr>\n",
       "      <th>1</th>\n",
       "      <td>0.153</td>\n",
       "      <td>job_title_Data Analyst</td>\n",
       "    </tr>\n",
       "    <tr>\n",
       "      <th>2</th>\n",
       "      <td>0.059</td>\n",
       "      <td>experience_level_senior</td>\n",
       "    </tr>\n",
       "    <tr>\n",
       "      <th>3</th>\n",
       "      <td>0.052</td>\n",
       "      <td>experience_level_executive</td>\n",
       "    </tr>\n",
       "    <tr>\n",
       "      <th>4</th>\n",
       "      <td>0.052</td>\n",
       "      <td>experience_level_mid</td>\n",
       "    </tr>\n",
       "    <tr>\n",
       "      <th>...</th>\n",
       "      <td>...</td>\n",
       "      <td>...</td>\n",
       "    </tr>\n",
       "    <tr>\n",
       "      <th>56</th>\n",
       "      <td>0.001</td>\n",
       "      <td>employee_residence_Latvia</td>\n",
       "    </tr>\n",
       "    <tr>\n",
       "      <th>57</th>\n",
       "      <td>0.001</td>\n",
       "      <td>company_location_Qatar</td>\n",
       "    </tr>\n",
       "    <tr>\n",
       "      <th>58</th>\n",
       "      <td>0.001</td>\n",
       "      <td>company_location_United Kingdom</td>\n",
       "    </tr>\n",
       "    <tr>\n",
       "      <th>59</th>\n",
       "      <td>0.001</td>\n",
       "      <td>job_title_Business Intelligence Engineer</td>\n",
       "    </tr>\n",
       "    <tr>\n",
       "      <th>60</th>\n",
       "      <td>0.001</td>\n",
       "      <td>job_area_Cloud</td>\n",
       "    </tr>\n",
       "  </tbody>\n",
       "</table>\n",
       "<p>61 rows × 2 columns</p>\n",
       "</div>"
      ],
      "text/plain": [
       "    Importance                                    column\n",
       "0        0.289          employee_residence_United States\n",
       "1        0.153                    job_title_Data Analyst\n",
       "2        0.059                   experience_level_senior\n",
       "3        0.052                experience_level_executive\n",
       "4        0.052                      experience_level_mid\n",
       "..         ...                                       ...\n",
       "56       0.001                 employee_residence_Latvia\n",
       "57       0.001                    company_location_Qatar\n",
       "58       0.001           company_location_United Kingdom\n",
       "59       0.001  job_title_Business Intelligence Engineer\n",
       "60       0.001                            job_area_Cloud\n",
       "\n",
       "[61 rows x 2 columns]"
      ]
     },
     "execution_count": 43,
     "metadata": {},
     "output_type": "execute_result"
    }
   ],
   "source": [
    "feature_importances_df"
   ]
  },
  {
   "cell_type": "code",
   "execution_count": 74,
   "id": "0e7580e6-5d72-4acd-a404-218f29027ead",
   "metadata": {},
   "outputs": [
    {
     "data": {
      "image/png": "[encoded data removed]",
      "text/plain": [
       "<Figure size 640x480 with 1 Axes>"
      ]
     },
     "metadata": {},
     "output_type": "display_data"
    }
   ],
   "source": [
    "sns.barplot(data=feature_importances_df.iloc[:20,:], y=\"column\", x=\"Importance\", color=\"skyblue\");"
   ]
  },
  {
   "cell_type": "code",
   "execution_count": null,
   "id": "60c94767-50f4-45e9-a820-7ab2967c9b91",
   "metadata": {},
   "outputs": [],
   "source": []
  },
  {
   "cell_type": "code",
   "execution_count": null,
   "id": "008456ff-2267-485b-be86-6be65c43e253",
   "metadata": {},
   "outputs": [],
   "source": []
  },
  {
   "cell_type": "code",
   "execution_count": null,
   "id": "a4fad4e5-7a0d-438c-aad1-ad8c479a772e",
   "metadata": {},
   "outputs": [],
   "source": []
  },
  {
   "cell_type": "code",
   "execution_count": null,
   "id": "ce8bc59c-d539-453c-adee-ff7d2c2268c5",
   "metadata": {},
   "outputs": [],
   "source": [
    "# scatterplot y_pred (y) vs y_pred(x), histograma dels errrors y_real - y_pred\n",
    "# y_pred != y_real; sns.scatterplot()\n",
    "# Model perfect y_pred = y_real -> y_pred = 0 + 1 * y_real"
   ]
  },
  {
   "cell_type": "code",
   "execution_count": null,
   "id": "5dc48bba-ce36-4fd9-9e6c-cb47f7f9b7ce",
   "metadata": {},
   "outputs": [],
   "source": []
  },
  {
   "cell_type": "code",
   "execution_count": null,
   "id": "e1306a3e-f361-4901-9f46-5f8582cd1807",
   "metadata": {},
   "outputs": [],
   "source": []
  },
  {
   "cell_type": "code",
   "execution_count": null,
   "id": "2d794084-cf58-4e4e-a3b9-4e657178ed4d",
   "metadata": {},
   "outputs": [],
   "source": [
    "# Generar dataframe de resultats. (y_train, y_test, model) -> {\"set\": [\"Train\"]*len(y_train)+[\"Test\"]*len(y_test), \"y_real\": [], \"y_pred\": []}\n",
    "\n",
    "| set | y_real | y_pred |\n",
    "|-----|--------|--------|\n",
    "| Train | 500000 | 51200 |\n",
    "| ..... |........|.......|\n",
    "| Test  | 230000 | 340000 |\n",
    "|......|........|.........|\n",
    "\n",
    "sns.scatterplot(df, y=\"y_pred\", x=\"y_real\", hue=\"set\");\n",
    "sns.lineplot(df, y=\"y_real\", x=\"x_real\", color=\"black\");"
   ]
  },
  {
   "cell_type": "code",
   "execution_count": 54,
   "id": "3ddf9fe3-e03b-4a3e-9038-f40c9ed7fcf6",
   "metadata": {},
   "outputs": [
    {
     "ename": "NameError",
     "evalue": "name 'y_pred_train' is not defined",
     "output_type": "error",
     "traceback": [
      "\u001b[0;31m---------------------------------------------------------------------------\u001b[0m",
      "\u001b[0;31mNameError\u001b[0m                                 Traceback (most recent call last)",
      "Cell \u001b[0;32mIn[54], line 8\u001b[0m\n\u001b[1;32m      5\u001b[0m y_real_values \u001b[38;5;241m=\u001b[39m \u001b[38;5;28mlist\u001b[39m(y_train) \u001b[38;5;241m+\u001b[39m \u001b[38;5;28mlist\u001b[39m(y_test)\n\u001b[1;32m      7\u001b[0m \u001b[38;5;66;03m# Create a list of predicted values (y_pred)\u001b[39;00m\n\u001b[0;32m----> 8\u001b[0m y_pred_values \u001b[38;5;241m=\u001b[39m \u001b[38;5;28mlist\u001b[39m(\u001b[43my_pred_train\u001b[49m) \u001b[38;5;241m+\u001b[39m \u001b[38;5;28mlist\u001b[39m(y_pred_test)  \u001b[38;5;66;03m# Replace with your actual y_pred values\u001b[39;00m\n\u001b[1;32m     10\u001b[0m \u001b[38;5;66;03m# Create a DataFrame\u001b[39;00m\n\u001b[1;32m     11\u001b[0m results_df \u001b[38;5;241m=\u001b[39m pd\u001b[38;5;241m.\u001b[39mDataFrame({\u001b[38;5;124m\"\u001b[39m\u001b[38;5;124mset\u001b[39m\u001b[38;5;124m\"\u001b[39m: set_values, \u001b[38;5;124m\"\u001b[39m\u001b[38;5;124my_real\u001b[39m\u001b[38;5;124m\"\u001b[39m: y_real_values, \u001b[38;5;124m\"\u001b[39m\u001b[38;5;124my_pred\u001b[39m\u001b[38;5;124m\"\u001b[39m: y_pred_values})\n",
      "\u001b[0;31mNameError\u001b[0m: name 'y_pred_train' is not defined"
     ]
    }
   ],
   "source": [
    "# Create a list to indicate the set (Train or Test)\n",
    "set_values = [\"Train\"] * len(y_train) + [\"Test\"] * len(y_test)\n",
    "\n",
    "# Create a list of actual values (y_real)\n",
    "y_real_values = list(y_train) + list(y_test)\n",
    "\n",
    "# Create a list of predicted values (y_pred)\n",
    "y_pred_values = list(y_pred_train) + list(y_pred_test)  # Replace with your actual y_pred values\n",
    "\n",
    "# Create a DataFrame\n",
    "results_df = pd.DataFrame({\"set\": set_values, \"y_real\": y_real_values, \"y_pred\": y_pred_values})\n",
    "\n",
    "# Display the DataFrame\n",
    "print(results_df)"
   ]
  },
  {
   "cell_type": "code",
   "execution_count": null,
   "id": "a79ac6bf-624d-4c6e-b0e1-4d6cdbfb3894",
   "metadata": {},
   "outputs": [],
   "source": []
  }
 ],
 "metadata": {
  "kernelspec": {
   "display_name": "Python 3 (ipykernel)",
   "language": "python",
   "name": "python3"
  },
  "language_info": {
   "codemirror_mode": {
    "name": "ipython",
    "version": 3
   },
   "file_extension": ".py",
   "mimetype": "text/x-python",
   "name": "python",
   "nbconvert_exporter": "python",
   "pygments_lexer": "ipython3",
   "version": "3.11.0"
  }
 },
 "nbformat": 4,
 "nbformat_minor": 5
}
