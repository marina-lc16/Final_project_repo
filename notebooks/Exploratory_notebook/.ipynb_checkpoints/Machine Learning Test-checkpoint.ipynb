{
 "cells": [
  {
   "cell_type": "markdown",
   "id": "5aca4ae6-081e-4a3b-98b9-6fd9da29e91b",
   "metadata": {},
   "source": [
    "# MACHINE LEARNING TRAINING"
   ]
  },
  {
   "cell_type": "markdown",
   "id": "e69fc031-bac7-4e2c-b94a-5dd23837ab29",
   "metadata": {},
   "source": [
    "## Table of contents\n",
    "\n",
    "1. [Project information](#1.-Project-Information)\n",
    "\n",
    "2. [Finding all variables and understanding them](#2.-Finding-all-variables-and-understanding-them)\n",
    "\n",
    "3. [Modelling](#3.-Modelling)\n",
    "\n",
    "4. [Linear Regression & RandomForestRegressor](#4.-Linear-Regression-&-RandomForestRegressor)\n",
    "\n",
    "5. [x](#5.-Linear-Regression-&-RandomForestRegressor)"
   ]
  },
  {
   "cell_type": "markdown",
   "id": "8a043a62-330d-4241-97c6-ed8225d483b7",
   "metadata": {},
   "source": [
    "## <font color='blue'>1. Project information</font> "
   ]
  },
  {
   "cell_type": "code",
   "execution_count": null,
   "id": "3b73dbf6-7912-4eac-9dc1-3b2df497cf42",
   "metadata": {},
   "outputs": [],
   "source": []
  },
  {
   "cell_type": "code",
   "execution_count": null,
   "id": "6ff76f80-ef24-47cd-a3cb-196856a9db25",
   "metadata": {},
   "outputs": [],
   "source": []
  },
  {
   "cell_type": "code",
   "execution_count": null,
   "id": "75616bd6-184b-4361-ac0a-540d47312a94",
   "metadata": {},
   "outputs": [],
   "source": []
  },
  {
   "cell_type": "markdown",
   "id": "6724c03e-4ac7-4948-b0d7-bd2a413d92c6",
   "metadata": {},
   "source": [
    "## <font color='blue'>2. Finding all variables and understanding them</font>"
   ]
  },
  {
   "cell_type": "markdown",
   "id": "b35f9dd8-e395-4c50-8ce6-89bf4c024c70",
   "metadata": {},
   "source": [
    "### Importing Required Libraries"
   ]
  },
  {
   "cell_type": "code",
   "execution_count": 1,
   "id": "09ddb090-b409-4607-9c65-8a7b43660cbf",
   "metadata": {},
   "outputs": [],
   "source": [
    "import pandas as pd\n",
    "import numpy as np\n",
    "import matplotlib.pyplot as plt\n",
    "import matplotlib.ticker as ticker\n",
    "import seaborn as sns\n",
    "import pycountry\n",
    "from pycountry import countries\n",
    "sns.set_theme()\n",
    "\n",
    "%matplotlib inline"
   ]
  },
  {
   "cell_type": "markdown",
   "id": "76a45cd1-738d-4478-bd6e-82811a30a83f",
   "metadata": {},
   "source": [
    "### Read dataset"
   ]
  },
  {
   "cell_type": "code",
   "execution_count": 2,
   "id": "ab107dd7-0771-4a97-a051-dc769399f842",
   "metadata": {},
   "outputs": [
    {
     "data": {
      "text/html": [
       "<div>\n",
       "<style scoped>\n",
       "    .dataframe tbody tr th:only-of-type {\n",
       "        vertical-align: middle;\n",
       "    }\n",
       "\n",
       "    .dataframe tbody tr th {\n",
       "        vertical-align: top;\n",
       "    }\n",
       "\n",
       "    .dataframe thead th {\n",
       "        text-align: right;\n",
       "    }\n",
       "</style>\n",
       "<table border=\"1\" class=\"dataframe\">\n",
       "  <thead>\n",
       "    <tr style=\"text-align: right;\">\n",
       "      <th></th>\n",
       "      <th>work_year</th>\n",
       "      <th>salary</th>\n",
       "      <th>experience_level</th>\n",
       "      <th>employment_type</th>\n",
       "      <th>job_title</th>\n",
       "      <th>employee_residence</th>\n",
       "      <th>remote_ratio</th>\n",
       "      <th>company_location</th>\n",
       "      <th>company_size</th>\n",
       "      <th>job_area</th>\n",
       "    </tr>\n",
       "  </thead>\n",
       "  <tbody>\n",
       "    <tr>\n",
       "      <th>0</th>\n",
       "      <td>2023</td>\n",
       "      <td>96313</td>\n",
       "      <td>mid</td>\n",
       "      <td>full_time</td>\n",
       "      <td>Data Scientist</td>\n",
       "      <td>Canada</td>\n",
       "      <td>remote</td>\n",
       "      <td>Canada</td>\n",
       "      <td>small</td>\n",
       "      <td>Data</td>\n",
       "    </tr>\n",
       "    <tr>\n",
       "      <th>1</th>\n",
       "      <td>2023</td>\n",
       "      <td>250000</td>\n",
       "      <td>senior</td>\n",
       "      <td>full_time</td>\n",
       "      <td>Machine Learning Engineer</td>\n",
       "      <td>United States</td>\n",
       "      <td>on_site</td>\n",
       "      <td>United States</td>\n",
       "      <td>medium</td>\n",
       "      <td>Machine Learning</td>\n",
       "    </tr>\n",
       "    <tr>\n",
       "      <th>2</th>\n",
       "      <td>2023</td>\n",
       "      <td>140000</td>\n",
       "      <td>senior</td>\n",
       "      <td>full_time</td>\n",
       "      <td>Machine Learning Engineer</td>\n",
       "      <td>United States</td>\n",
       "      <td>on_site</td>\n",
       "      <td>United States</td>\n",
       "      <td>medium</td>\n",
       "      <td>Machine Learning</td>\n",
       "    </tr>\n",
       "    <tr>\n",
       "      <th>3</th>\n",
       "      <td>2023</td>\n",
       "      <td>48585</td>\n",
       "      <td>mid</td>\n",
       "      <td>full_time</td>\n",
       "      <td>Data Analyst</td>\n",
       "      <td>Portugal</td>\n",
       "      <td>remote</td>\n",
       "      <td>Portugal</td>\n",
       "      <td>medium</td>\n",
       "      <td>Data</td>\n",
       "    </tr>\n",
       "    <tr>\n",
       "      <th>4</th>\n",
       "      <td>2023</td>\n",
       "      <td>43187</td>\n",
       "      <td>mid</td>\n",
       "      <td>full_time</td>\n",
       "      <td>Data Analyst</td>\n",
       "      <td>Portugal</td>\n",
       "      <td>remote</td>\n",
       "      <td>Portugal</td>\n",
       "      <td>medium</td>\n",
       "      <td>Data</td>\n",
       "    </tr>\n",
       "  </tbody>\n",
       "</table>\n",
       "</div>"
      ],
      "text/plain": [
       "   work_year  salary experience_level employment_type  \\\n",
       "0       2023   96313              mid       full_time   \n",
       "1       2023  250000           senior       full_time   \n",
       "2       2023  140000           senior       full_time   \n",
       "3       2023   48585              mid       full_time   \n",
       "4       2023   43187              mid       full_time   \n",
       "\n",
       "                   job_title employee_residence remote_ratio company_location  \\\n",
       "0             Data Scientist             Canada       remote           Canada   \n",
       "1  Machine Learning Engineer      United States      on_site    United States   \n",
       "2  Machine Learning Engineer      United States      on_site    United States   \n",
       "3               Data Analyst           Portugal       remote         Portugal   \n",
       "4               Data Analyst           Portugal       remote         Portugal   \n",
       "\n",
       "  company_size          job_area  \n",
       "0        small              Data  \n",
       "1       medium  Machine Learning  \n",
       "2       medium  Machine Learning  \n",
       "3       medium              Data  \n",
       "4       medium              Data  "
      ]
     },
     "execution_count": 2,
     "metadata": {},
     "output_type": "execute_result"
    }
   ],
   "source": [
    "salaries = pd.read_csv('../../data/cleaned/data_jobs.csv')\n",
    "salaries.head(5)"
   ]
  },
  {
   "cell_type": "code",
   "execution_count": 3,
   "id": "7da18ef9-ab16-4117-be55-5a248882b9b9",
   "metadata": {},
   "outputs": [
    {
     "data": {
      "text/plain": [
       "(7595, 10)"
      ]
     },
     "execution_count": 3,
     "metadata": {},
     "output_type": "execute_result"
    }
   ],
   "source": [
    "salaries.shape"
   ]
  },
  {
   "cell_type": "code",
   "execution_count": 4,
   "id": "37c1f0db-edec-4ac2-bfbe-8a14607a21cf",
   "metadata": {
    "scrolled": true
   },
   "outputs": [
    {
     "data": {
      "text/plain": [
       "work_year              int64\n",
       "salary                 int64\n",
       "experience_level      object\n",
       "employment_type       object\n",
       "job_title             object\n",
       "employee_residence    object\n",
       "remote_ratio          object\n",
       "company_location      object\n",
       "company_size          object\n",
       "job_area              object\n",
       "dtype: object"
      ]
     },
     "execution_count": 4,
     "metadata": {},
     "output_type": "execute_result"
    }
   ],
   "source": [
    "salaries.dtypes"
   ]
  },
  {
   "cell_type": "code",
   "execution_count": 5,
   "id": "3f0c96b5-3a45-4e8a-822c-d7c9a1a21d8c",
   "metadata": {},
   "outputs": [
    {
     "data": {
      "text/plain": [
       "Index(['work_year', 'salary', 'experience_level', 'employment_type',\n",
       "       'job_title', 'employee_residence', 'remote_ratio', 'company_location',\n",
       "       'company_size', 'job_area'],\n",
       "      dtype='object')"
      ]
     },
     "execution_count": 5,
     "metadata": {},
     "output_type": "execute_result"
    }
   ],
   "source": [
    "salaries.columns"
   ]
  },
  {
   "cell_type": "markdown",
   "id": "87d9619f-2c53-420d-9d24-4e281c1271fb",
   "metadata": {},
   "source": [
    "**Data Dictionary**\n",
    "\n",
    "- **work_year**: The year the salary was paid;\n",
    "- **salary**: The salary in USD;\n",
    "- **experience_level**: The experience level in the job during the year;\n",
    "- **employment_type**: The type of employement for the role;\n",
    "- **job_title**: The role worked in during the year;\n",
    "- **employee_residence**: Employee's primary country of residence in during the work year;\n",
    "- **remote_ratio**: The overall amount of work done remotely;\n",
    "- **company_location**: The country of the employer's main office or contracting branch;\n",
    "- **company_size**: The average number of people that worked for the company during the year.\n",
    "- **job_area**: job_titles grouped by area"
   ]
  },
  {
   "cell_type": "markdown",
   "id": "ef7b2a39-9291-481b-bd7d-768c1c345dfa",
   "metadata": {},
   "source": [
    "### Data Cleaning"
   ]
  },
  {
   "cell_type": "markdown",
   "id": "21548747-9262-47c7-af66-7e752f8eb0c4",
   "metadata": {},
   "source": [
    "The dataset read is already clean, it was cleaned in the first stage of the EDA + visualization project."
   ]
  },
  {
   "cell_type": "markdown",
   "id": "92c0bd8b-4724-4671-a581-043fdee89a4e",
   "metadata": {},
   "source": [
    "### Data Analysis"
   ]
  },
  {
   "cell_type": "code",
   "execution_count": 6,
   "id": "f6f15d7d-6e0f-42a5-b6f7-82242cb527fd",
   "metadata": {},
   "outputs": [
    {
     "ename": "SyntaxError",
     "evalue": "invalid syntax (2004065921.py, line 1)",
     "output_type": "error",
     "traceback": [
      "\u001b[0;36m  Cell \u001b[0;32mIn[6], line 1\u001b[0;36m\u001b[0m\n\u001b[0;31m    On the first stage of the analysis we saw:\u001b[0m\n\u001b[0m       ^\u001b[0m\n\u001b[0;31mSyntaxError\u001b[0m\u001b[0;31m:\u001b[0m invalid syntax\n"
     ]
    }
   ],
   "source": [
    "On the first stage of the analysis we saw:\n",
    "\n",
    "xxx\n",
    "\n",
    "xxx\n",
    "\n",
    "xxx\n",
    "xxx\n",
    "\n",
    "\n",
    "You can check the visual results on Tableau Public: \n",
    "https://public.tableau.com/app/profile/marina.llompart/viz/Mid_boot_project_final/Story1"
   ]
  },
  {
   "cell_type": "markdown",
   "id": "972e73fe-d520-4765-abcb-2e66e6b6ecdb",
   "metadata": {},
   "source": [
    "#### Adding some analysis features"
   ]
  },
  {
   "cell_type": "code",
   "execution_count": 7,
   "id": "0caf25f0-0567-47df-9b55-5d612fa2bf5a",
   "metadata": {
    "scrolled": true
   },
   "outputs": [
    {
     "data": {
      "text/plain": [
       "work_year              int64\n",
       "salary                 int64\n",
       "experience_level      object\n",
       "employment_type       object\n",
       "job_title             object\n",
       "employee_residence    object\n",
       "remote_ratio          object\n",
       "company_location      object\n",
       "company_size          object\n",
       "job_area              object\n",
       "dtype: object"
      ]
     },
     "execution_count": 7,
     "metadata": {},
     "output_type": "execute_result"
    }
   ],
   "source": [
    "salaries.dtypes"
   ]
  },
  {
   "cell_type": "code",
   "execution_count": 8,
   "id": "4814120f-d537-488a-b281-31a6d3c3f9c3",
   "metadata": {},
   "outputs": [],
   "source": [
    "# Convert columns string to float\n",
    "\n",
    "salaries['work_year'] = salaries['work_year'].astype(float)\n",
    "salaries['salary'] = salaries['salary'].astype(float)"
   ]
  },
  {
   "cell_type": "code",
   "execution_count": 9,
   "id": "5b5b604a-b716-4e32-971b-ef4adc6366a7",
   "metadata": {
    "scrolled": true
   },
   "outputs": [
    {
     "data": {
      "text/plain": [
       "work_year             float64\n",
       "salary                float64\n",
       "experience_level       object\n",
       "employment_type        object\n",
       "job_title              object\n",
       "employee_residence     object\n",
       "remote_ratio           object\n",
       "company_location       object\n",
       "company_size           object\n",
       "job_area               object\n",
       "dtype: object"
      ]
     },
     "execution_count": 9,
     "metadata": {},
     "output_type": "execute_result"
    }
   ],
   "source": [
    "#Dtypes after conversion\n",
    "salaries.dtypes"
   ]
  },
  {
   "cell_type": "markdown",
   "id": "3c14707d-efc4-4617-95d6-eea34dcd62b3",
   "metadata": {},
   "source": [
    "## <font color='blue'>3. Modelling</font>"
   ]
  },
  {
   "cell_type": "markdown",
   "id": "78cce372-fa24-483f-b16d-b475ac1d8cce",
   "metadata": {},
   "source": [
    "Now that the EDA (Exploratory Data Analysis) is complete, we can dive straight into the modeling phase."
   ]
  },
  {
   "cell_type": "markdown",
   "id": "b650dbb4-8ea3-4a44-9be8-d1409de7d0cb",
   "metadata": {},
   "source": [
    "### Model training"
   ]
  },
  {
   "cell_type": "markdown",
   "id": "ce652665-8a0d-4c65-86eb-ee8cb3f85b19",
   "metadata": {},
   "source": [
    "**Predicting salaries using machine learning models is a common task in data science, we can do it using Pandas and Scikit-Learn.**"
   ]
  },
  {
   "cell_type": "markdown",
   "id": "f54b1f2d-0fdc-4ccc-8165-9c3aabe55b9a",
   "metadata": {},
   "source": [
    "Split the data into a training set and a test set to evaluate the model's performance."
   ]
  },
  {
   "cell_type": "code",
   "execution_count": 10,
   "id": "d9a2533d-f3e3-4908-b5cd-567793e99f8a",
   "metadata": {},
   "outputs": [
    {
     "name": "stdout",
     "output_type": "stream",
     "text": [
      "Categorical columns in the data: ['experience_level', 'employment_type', 'job_title', 'employee_residence', 'remote_ratio', 'company_location', 'company_size', 'job_area']\n"
     ]
    }
   ],
   "source": [
    "# Identify categorical columns based on data type\n",
    "categorical_col = salaries.select_dtypes(include=['object']).columns.tolist()\n",
    "print(\"Categorical columns in the data:\", categorical_col)"
   ]
  },
  {
   "cell_type": "code",
   "execution_count": 11,
   "id": "9639e94e-11f4-42d1-a1ec-ce7b8089d69a",
   "metadata": {},
   "outputs": [
    {
     "name": "stdout",
     "output_type": "stream",
     "text": [
      "numerical columns in data: ['work_year', 'salary']\n"
     ]
    }
   ],
   "source": [
    "# Identify numerical columns based on data type\n",
    "numerical_col = salaries.select_dtypes(include=np.number).columns.tolist()\n",
    "print(\"numerical columns in data:\", numerical_col)"
   ]
  },
  {
   "cell_type": "markdown",
   "id": "1fcca36c-4657-4e4e-9512-976ccaee13e8",
   "metadata": {},
   "source": [
    "#### Correlation matrix"
   ]
  },
  {
   "cell_type": "code",
   "execution_count": 12,
   "id": "c54b8a1a-eef6-46f5-990c-2887b5983595",
   "metadata": {},
   "outputs": [
    {
     "data": {
      "image/png": "[encoded data removed]",
      "text/plain": [
       "<Figure size 400x200 with 2 Axes>"
      ]
     },
     "metadata": {},
     "output_type": "display_data"
    }
   ],
   "source": [
    "# Select only the numerical columns from the DataFrame\n",
    "numerical_data = salaries[numerical_col]\n",
    "\n",
    "# Compute the correlation matrix\n",
    "correlation_matrix = numerical_data.corr()\n",
    "\n",
    "# Create a heatmap with colors\n",
    "plt.figure(figsize=(4, 2))\n",
    "sns.heatmap(correlation_matrix, annot=True, cmap='PuBu', linewidths=0.5)\n",
    "plt.title('Correlation Heatmap')\n",
    "plt.show()"
   ]
  },
  {
   "cell_type": "code",
   "execution_count": 13,
   "id": "fa2aa393-22f1-4407-b234-f7e2a49cb434",
   "metadata": {},
   "outputs": [
    {
     "data": {
      "text/plain": [
       "<seaborn.axisgrid.PairGrid at 0x13b8a8410>"
      ]
     },
     "execution_count": 13,
     "metadata": {},
     "output_type": "execute_result"
    },
    {
     "data": {
      "image/png": "[encoded data removed]",
      "text/plain": [
       "<Figure size 500x500 with 6 Axes>"
      ]
     },
     "metadata": {},
     "output_type": "display_data"
    }
   ],
   "source": [
    "sns.pairplot(salaries[numerical_col])"
   ]
  },
  {
   "cell_type": "markdown",
   "id": "c4a1164f-bc21-46df-b706-d9e0b036ce31",
   "metadata": {},
   "source": [
    "There are no linear relationship between features and salary"
   ]
  },
  {
   "cell_type": "markdown",
   "id": "937ba773-3357-4a42-8e67-c12e08b29b49",
   "metadata": {},
   "source": [
    "## <font color='blue'>4. Linear Regression & RandomForestRegressor</font>"
   ]
  },
  {
   "cell_type": "code",
   "execution_count": null,
   "id": "52dc0e3e-b893-4ffc-b192-2ff2c7126704",
   "metadata": {},
   "outputs": [],
   "source": [
    "X.info()"
   ]
  },
  {
   "cell_type": "markdown",
   "id": "c21d196d-cfb8-4c3a-9e87-d95354fbdaa0",
   "metadata": {},
   "source": [
    "#### Encode Categorical Features"
   ]
  },
  {
   "cell_type": "code",
   "execution_count": 17,
   "id": "9e612338-dfba-4bfa-a9af-27239e14440f",
   "metadata": {
    "scrolled": true
   },
   "outputs": [
    {
     "name": "stderr",
     "output_type": "stream",
     "text": [
      "/Users/marina/Documents/Marina/Bootcamp/Week_9/Final_project/final_env/lib/python3.11/site-packages/sklearn/preprocessing/_encoders.py:975: FutureWarning: `sparse` was renamed to `sparse_output` in version 1.2 and will be removed in 1.4. `sparse_output` is ignored unless you leave `sparse` to its default value.\n",
      "  warnings.warn(\n"
     ]
    }
   ],
   "source": [
    "# Encode categorical features using one-hot encoding\n",
    "from sklearn.preprocessing import OneHotEncoder\n",
    "\n",
    "# Apply one-hot encoding to the categorical features\n",
    "encoder = OneHotEncoder(sparse=False, drop='first')\n",
    "encoded_features = encoder.fit_transform(salaries[categorical_col])\n",
    "\n",
    "# Create a DataFrame with the one-hot encoded features and appropriate column names\n",
    "encoded_df = pd.DataFrame(encoded_features, columns=encoder.get_feature_names_out(categorical_col))\n",
    "\n",
    "# Combine the one-hot encoded features with the numerical features\n",
    "X = pd.concat([encoded_df, salaries[['work_year']]], axis=1)"
   ]
  },
  {
   "cell_type": "code",
   "execution_count": null,
   "id": "a7b84340-69e6-4554-8c2a-7f35238f0de6",
   "metadata": {},
   "outputs": [],
   "source": []
  },
  {
   "cell_type": "markdown",
   "id": "115a9490-8ba7-40b0-877a-90d902dedaaf",
   "metadata": {},
   "source": [
    "#### Split the data into features (X) and target variable (y=salary)"
   ]
  },
  {
   "cell_type": "code",
   "execution_count": 27,
   "id": "cd10acd5-0ab9-40ac-a579-fe7ba8146fba",
   "metadata": {},
   "outputs": [],
   "source": [
    "from sklearn.model_selection import train_test_split\n",
    "from sklearn.linear_model import LinearRegression\n",
    "from sklearn.ensemble import RandomForestRegressor\n",
    "from sklearn.metrics import mean_squared_error, mean_absolute_error, r2_score\n",
    "\n",
    "# Split the data into features (X) and target variable (y=salary)\n",
    "y = salaries['salary']\n",
    "\n",
    "X_train, X_test, y_train, y_test = train_test_split(X, y, test_size=0.2, random_state=42)"
   ]
  },
  {
   "cell_type": "code",
   "execution_count": 19,
   "id": "663fc8ab-06ab-4e17-8c44-4dcd0a3ef9ed",
   "metadata": {},
   "outputs": [
    {
     "data": {
      "text/html": [
       "<style>#sk-container-id-1 {color: black;}#sk-container-id-1 pre{padding: 0;}#sk-container-id-1 div.sk-toggleable {background-color: white;}#sk-container-id-1 label.sk-toggleable__label {cursor: pointer;display: block;width: 100%;margin-bottom: 0;padding: 0.3em;box-sizing: border-box;text-align: center;}#sk-container-id-1 label.sk-toggleable__label-arrow:before {content: \"▸\";float: left;margin-right: 0.25em;color: #696969;}#sk-container-id-1 label.sk-toggleable__label-arrow:hover:before {color: black;}#sk-container-id-1 div.sk-estimator:hover label.sk-toggleable__label-arrow:before {color: black;}#sk-container-id-1 div.sk-toggleable__content {max-height: 0;max-width: 0;overflow: hidden;text-align: left;background-color: #f0f8ff;}#sk-container-id-1 div.sk-toggleable__content pre {margin: 0.2em;color: black;border-radius: 0.25em;background-color: #f0f8ff;}#sk-container-id-1 input.sk-toggleable__control:checked~div.sk-toggleable__content {max-height: 200px;max-width: 100%;overflow: auto;}#sk-container-id-1 input.sk-toggleable__control:checked~label.sk-toggleable__label-arrow:before {content: \"▾\";}#sk-container-id-1 div.sk-estimator input.sk-toggleable__control:checked~label.sk-toggleable__label {background-color: #d4ebff;}#sk-container-id-1 div.sk-label input.sk-toggleable__control:checked~label.sk-toggleable__label {background-color: #d4ebff;}#sk-container-id-1 input.sk-hidden--visually {border: 0;clip: rect(1px 1px 1px 1px);clip: rect(1px, 1px, 1px, 1px);height: 1px;margin: -1px;overflow: hidden;padding: 0;position: absolute;width: 1px;}#sk-container-id-1 div.sk-estimator {font-family: monospace;background-color: #f0f8ff;border: 1px dotted black;border-radius: 0.25em;box-sizing: border-box;margin-bottom: 0.5em;}#sk-container-id-1 div.sk-estimator:hover {background-color: #d4ebff;}#sk-container-id-1 div.sk-parallel-item::after {content: \"\";width: 100%;border-bottom: 1px solid gray;flex-grow: 1;}#sk-container-id-1 div.sk-label:hover label.sk-toggleable__label {background-color: #d4ebff;}#sk-container-id-1 div.sk-serial::before {content: \"\";position: absolute;border-left: 1px solid gray;box-sizing: border-box;top: 0;bottom: 0;left: 50%;z-index: 0;}#sk-container-id-1 div.sk-serial {display: flex;flex-direction: column;align-items: center;background-color: white;padding-right: 0.2em;padding-left: 0.2em;position: relative;}#sk-container-id-1 div.sk-item {position: relative;z-index: 1;}#sk-container-id-1 div.sk-parallel {display: flex;align-items: stretch;justify-content: center;background-color: white;position: relative;}#sk-container-id-1 div.sk-item::before, #sk-container-id-1 div.sk-parallel-item::before {content: \"\";position: absolute;border-left: 1px solid gray;box-sizing: border-box;top: 0;bottom: 0;left: 50%;z-index: -1;}#sk-container-id-1 div.sk-parallel-item {display: flex;flex-direction: column;z-index: 1;position: relative;background-color: white;}#sk-container-id-1 div.sk-parallel-item:first-child::after {align-self: flex-end;width: 50%;}#sk-container-id-1 div.sk-parallel-item:last-child::after {align-self: flex-start;width: 50%;}#sk-container-id-1 div.sk-parallel-item:only-child::after {width: 0;}#sk-container-id-1 div.sk-dashed-wrapped {border: 1px dashed gray;margin: 0 0.4em 0.5em 0.4em;box-sizing: border-box;padding-bottom: 0.4em;background-color: white;}#sk-container-id-1 div.sk-label label {font-family: monospace;font-weight: bold;display: inline-block;line-height: 1.2em;}#sk-container-id-1 div.sk-label-container {text-align: center;}#sk-container-id-1 div.sk-container {/* jupyter's `normalize.less` sets `[hidden] { display: none; }` but bootstrap.min.css set `[hidden] { display: none !important; }` so we also need the `!important` here to be able to override the default hidden behavior on the sphinx rendered scikit-learn.org. See: https://github.com/scikit-learn/scikit-learn/issues/21755 */display: inline-block !important;position: relative;}#sk-container-id-1 div.sk-text-repr-fallback {display: none;}</style><div id=\"sk-container-id-1\" class=\"sk-top-container\"><div class=\"sk-text-repr-fallback\"><pre>LinearRegression()</pre><b>In a Jupyter environment, please rerun this cell to show the HTML representation or trust the notebook. <br />On GitHub, the HTML representation is unable to render, please try loading this page with nbviewer.org.</b></div><div class=\"sk-container\" hidden><div class=\"sk-item\"><div class=\"sk-estimator sk-toggleable\"><input class=\"sk-toggleable__control sk-hidden--visually\" id=\"sk-estimator-id-1\" type=\"checkbox\" checked><label for=\"sk-estimator-id-1\" class=\"sk-toggleable__label sk-toggleable__label-arrow\">LinearRegression</label><div class=\"sk-toggleable__content\"><pre>LinearRegression()</pre></div></div></div></div></div>"
      ],
      "text/plain": [
       "LinearRegression()"
      ]
     },
     "execution_count": 19,
     "metadata": {},
     "output_type": "execute_result"
    }
   ],
   "source": [
    "# Train a Linear Regression model\n",
    "lr_model = LinearRegression()\n",
    "lr_model.fit(X_train, y_train)"
   ]
  },
  {
   "cell_type": "code",
   "execution_count": 20,
   "id": "246e44b1-a2be-4fb1-93eb-dd62554f2ca7",
   "metadata": {},
   "outputs": [
    {
     "data": {
      "text/html": [
       "<style>#sk-container-id-2 {color: black;}#sk-container-id-2 pre{padding: 0;}#sk-container-id-2 div.sk-toggleable {background-color: white;}#sk-container-id-2 label.sk-toggleable__label {cursor: pointer;display: block;width: 100%;margin-bottom: 0;padding: 0.3em;box-sizing: border-box;text-align: center;}#sk-container-id-2 label.sk-toggleable__label-arrow:before {content: \"▸\";float: left;margin-right: 0.25em;color: #696969;}#sk-container-id-2 label.sk-toggleable__label-arrow:hover:before {color: black;}#sk-container-id-2 div.sk-estimator:hover label.sk-toggleable__label-arrow:before {color: black;}#sk-container-id-2 div.sk-toggleable__content {max-height: 0;max-width: 0;overflow: hidden;text-align: left;background-color: #f0f8ff;}#sk-container-id-2 div.sk-toggleable__content pre {margin: 0.2em;color: black;border-radius: 0.25em;background-color: #f0f8ff;}#sk-container-id-2 input.sk-toggleable__control:checked~div.sk-toggleable__content {max-height: 200px;max-width: 100%;overflow: auto;}#sk-container-id-2 input.sk-toggleable__control:checked~label.sk-toggleable__label-arrow:before {content: \"▾\";}#sk-container-id-2 div.sk-estimator input.sk-toggleable__control:checked~label.sk-toggleable__label {background-color: #d4ebff;}#sk-container-id-2 div.sk-label input.sk-toggleable__control:checked~label.sk-toggleable__label {background-color: #d4ebff;}#sk-container-id-2 input.sk-hidden--visually {border: 0;clip: rect(1px 1px 1px 1px);clip: rect(1px, 1px, 1px, 1px);height: 1px;margin: -1px;overflow: hidden;padding: 0;position: absolute;width: 1px;}#sk-container-id-2 div.sk-estimator {font-family: monospace;background-color: #f0f8ff;border: 1px dotted black;border-radius: 0.25em;box-sizing: border-box;margin-bottom: 0.5em;}#sk-container-id-2 div.sk-estimator:hover {background-color: #d4ebff;}#sk-container-id-2 div.sk-parallel-item::after {content: \"\";width: 100%;border-bottom: 1px solid gray;flex-grow: 1;}#sk-container-id-2 div.sk-label:hover label.sk-toggleable__label {background-color: #d4ebff;}#sk-container-id-2 div.sk-serial::before {content: \"\";position: absolute;border-left: 1px solid gray;box-sizing: border-box;top: 0;bottom: 0;left: 50%;z-index: 0;}#sk-container-id-2 div.sk-serial {display: flex;flex-direction: column;align-items: center;background-color: white;padding-right: 0.2em;padding-left: 0.2em;position: relative;}#sk-container-id-2 div.sk-item {position: relative;z-index: 1;}#sk-container-id-2 div.sk-parallel {display: flex;align-items: stretch;justify-content: center;background-color: white;position: relative;}#sk-container-id-2 div.sk-item::before, #sk-container-id-2 div.sk-parallel-item::before {content: \"\";position: absolute;border-left: 1px solid gray;box-sizing: border-box;top: 0;bottom: 0;left: 50%;z-index: -1;}#sk-container-id-2 div.sk-parallel-item {display: flex;flex-direction: column;z-index: 1;position: relative;background-color: white;}#sk-container-id-2 div.sk-parallel-item:first-child::after {align-self: flex-end;width: 50%;}#sk-container-id-2 div.sk-parallel-item:last-child::after {align-self: flex-start;width: 50%;}#sk-container-id-2 div.sk-parallel-item:only-child::after {width: 0;}#sk-container-id-2 div.sk-dashed-wrapped {border: 1px dashed gray;margin: 0 0.4em 0.5em 0.4em;box-sizing: border-box;padding-bottom: 0.4em;background-color: white;}#sk-container-id-2 div.sk-label label {font-family: monospace;font-weight: bold;display: inline-block;line-height: 1.2em;}#sk-container-id-2 div.sk-label-container {text-align: center;}#sk-container-id-2 div.sk-container {/* jupyter's `normalize.less` sets `[hidden] { display: none; }` but bootstrap.min.css set `[hidden] { display: none !important; }` so we also need the `!important` here to be able to override the default hidden behavior on the sphinx rendered scikit-learn.org. See: https://github.com/scikit-learn/scikit-learn/issues/21755 */display: inline-block !important;position: relative;}#sk-container-id-2 div.sk-text-repr-fallback {display: none;}</style><div id=\"sk-container-id-2\" class=\"sk-top-container\"><div class=\"sk-text-repr-fallback\"><pre>RandomForestRegressor(random_state=42)</pre><b>In a Jupyter environment, please rerun this cell to show the HTML representation or trust the notebook. <br />On GitHub, the HTML representation is unable to render, please try loading this page with nbviewer.org.</b></div><div class=\"sk-container\" hidden><div class=\"sk-item\"><div class=\"sk-estimator sk-toggleable\"><input class=\"sk-toggleable__control sk-hidden--visually\" id=\"sk-estimator-id-2\" type=\"checkbox\" checked><label for=\"sk-estimator-id-2\" class=\"sk-toggleable__label sk-toggleable__label-arrow\">RandomForestRegressor</label><div class=\"sk-toggleable__content\"><pre>RandomForestRegressor(random_state=42)</pre></div></div></div></div></div>"
      ],
      "text/plain": [
       "RandomForestRegressor(random_state=42)"
      ]
     },
     "execution_count": 20,
     "metadata": {},
     "output_type": "execute_result"
    }
   ],
   "source": [
    "# Train a RandomForestRegressor model\n",
    "rf_model = RandomForestRegressor(n_estimators=100, random_state=42)\n",
    "rf_model.fit(X_train, y_train)"
   ]
  },
  {
   "cell_type": "markdown",
   "id": "fb8cf481-b830-4573-b80b-39e04cb06694",
   "metadata": {},
   "source": [
    "#### Make predictions"
   ]
  },
  {
   "cell_type": "code",
   "execution_count": 21,
   "id": "1a5785e2-9db1-4858-b9c6-9e24eb88ddf7",
   "metadata": {},
   "outputs": [],
   "source": [
    "# Make predictions\n",
    "lr_predictions = lr_model.predict(X_test)\n",
    "rf_predictions = rf_model.predict(X_test)"
   ]
  },
  {
   "cell_type": "markdown",
   "id": "aad78f9b-84bd-445a-a194-92ad0e55cbc4",
   "metadata": {},
   "source": [
    "#### Model evaluation"
   ]
  },
  {
   "cell_type": "markdown",
   "id": "4e95edb9-3a99-42b0-9582-92ef4515ea18",
   "metadata": {},
   "source": [
    "Evaluate the model's performance using appropriate metrics such as Mean Absolute Error (MAE), Mean Squared Error (MSE), Root Mean Squared Error (RMSE), and R-squared (R^2) on the test data."
   ]
  },
  {
   "cell_type": "code",
   "execution_count": 28,
   "id": "1353564a-9b05-402e-8d40-2f2c28a94ccc",
   "metadata": {},
   "outputs": [
    {
     "name": "stdout",
     "output_type": "stream",
     "text": [
      "Linear Regression:\n",
      "Mean Squared Error (MSE): 187425234660727166392662080094208.00\n",
      "Root Mean Squared Error (RMSE): 13690333621235356.00\n",
      "Mean Absolute Error (MAE): 890379505655552.88\n",
      "R-squared (R^2): -44801007373881192742912.00\n",
      "\n",
      "RandomForestRegressor:\n",
      "Mean Squared Error (MSE): 2635060421.80\n",
      "Root Mean Squared Error (RMSE): 51332.84\n",
      "Mean Absolute Error (MAE): 38354.69\n",
      "R-squared (R^2): 0.37\n"
     ]
    }
   ],
   "source": [
    "# Compute model metrics for Linear Regression\n",
    "lr_mse = mean_squared_error(y_test, lr_predictions)\n",
    "lr_rmse = np.sqrt(lr_mse)\n",
    "lr_mae = mean_absolute_error(y_test, lr_predictions)\n",
    "lr_r2 = r2_score(y_test, lr_predictions)\n",
    "\n",
    "# Compute model metrics for RandomForestRegressor\n",
    "rf_mse = mean_squared_error(y_test, rf_predictions)\n",
    "rf_rmse = np.sqrt(rf_mse)\n",
    "rf_mae = mean_absolute_error(y_test, rf_predictions)\n",
    "rf_r2 = r2_score(y_test, rf_predictions)\n",
    "\n",
    "# Print the evaluation metrics\n",
    "print(\"Linear Regression:\")\n",
    "print(f\"Mean Squared Error (MSE): {lr_mse:.2f}\")\n",
    "print(f\"Root Mean Squared Error (RMSE): {lr_rmse:.2f}\")\n",
    "print(f\"Mean Absolute Error (MAE): {lr_mae:.2f}\")\n",
    "print(f\"R-squared (R^2): {lr_r2:.2f}\")\n",
    "print(\"\\nRandomForestRegressor:\")\n",
    "print(f\"Mean Squared Error (MSE): {rf_mse:.2f}\")\n",
    "print(f\"Root Mean Squared Error (RMSE): {rf_rmse:.2f}\")\n",
    "print(f\"Mean Absolute Error (MAE): {rf_mae:.2f}\")\n",
    "print(f\"R-squared (R^2): {rf_r2:.2f}\")"
   ]
  },
  {
   "cell_type": "code",
   "execution_count": 25,
   "id": "edb2be5e-74c7-4bd6-ac06-0c5884a83ac0",
   "metadata": {},
   "outputs": [
    {
     "data": {
      "image/png": "[encoded data removed]",
      "text/plain": [
       "<Figure size 800x400 with 2 Axes>"
      ]
     },
     "metadata": {},
     "output_type": "display_data"
    }
   ],
   "source": [
    "# Create scatter plots for actual vs. predicted values\n",
    "plt.figure(figsize=(8, 4))\n",
    "\n",
    "# Linear Regression plot\n",
    "plt.subplot(1, 2, 1)\n",
    "plt.scatter(y_test, lr_predictions, c='blue', label='Linear Regression', alpha=0.5)\n",
    "plt.xlabel('Actual Salary')\n",
    "plt.ylabel('Predicted Salary')\n",
    "plt.title('Linear Regression: Actual vs. Predicted')\n",
    "\n",
    "# RandomForestRegressor plot\n",
    "plt.subplot(1, 2, 2)\n",
    "plt.scatter(y_test, rf_predictions, c='green', label='RandomForestRegressor', alpha=0.5)\n",
    "plt.xlabel('Actual Salary')\n",
    "plt.ylabel('Predicted Salary')\n",
    "plt.title('RandomForestRegressor: Actual vs. Predicted')\n",
    "\n",
    "plt.tight_layout()\n",
    "plt.show()"
   ]
  },
  {
   "cell_type": "markdown",
   "id": "9438932c-6b27-4cf7-ae87-6c97b223f69c",
   "metadata": {},
   "source": [
    "#### Analyze results"
   ]
  },
  {
   "cell_type": "markdown",
   "id": "6af94cc1-0230-4f46-9979-0099dae16232",
   "metadata": {},
   "source": [
    "**Linear Regression**\n",
    "- Mean Squared Error (MSE): A very high value, indicating a large error in the model's predictions.\n",
    "- Root Mean Squared Error (RMSE): High RMSE, suggesting that the model's predictions are significantly off from the actual values.\n",
    "- Mean Absolute Error (MAE): Very high MAE, indicating substantial errors in the model's predictions.\n",
    "- R-squared (R^2): A negative R-squared value, highly unusual and indicates that the model is performing much bad.  \n",
    "\n",
    "These results for Linear Regression are indicative of severe overfitting or model misconfiguration. It seems like the Linear Regression model is not suitable for the dataset or may require extensive preprocessing or hyperparameter tuning.\n",
    "\n",
    "**Random Forest**\n",
    "- Mean Squared Error (MSE): A relatively low MSE, indicating smaller errors in the model's predictions compared to Linear Regression.\n",
    "- Root Mean Squared Error (RMSE): A low RMSE, suggesting that the model's predictions are closer to the actual values.\n",
    "- Mean Absolute Error (MAE): A low MAE, indicating smaller errors in prediction.\n",
    "- R-squared (R^2): A positive R-squared value of 0.37, which indicates that the model explains some of the variance in the target variable.\n",
    "\n",
    "The RandomForestRegressor performs significantly better than Linear Regression, with lower error metrics and a positive R-squared value."
   ]
  },
  {
   "cell_type": "code",
   "execution_count": null,
   "id": "0a0bedab-66ac-4f9b-8fdd-889576d6095f",
   "metadata": {},
   "outputs": [],
   "source": []
  },
  {
   "cell_type": "code",
   "execution_count": null,
   "id": "5013fec7-dc52-4b00-abe8-aa6553d8bab7",
   "metadata": {},
   "outputs": [],
   "source": []
  },
  {
   "cell_type": "markdown",
   "id": "a0854fcf-882c-4780-86d6-080683f4b46c",
   "metadata": {},
   "source": [
    "## <font color='blue'>5. Random Forest - Hyperparameter tuning</font>"
   ]
  },
  {
   "cell_type": "markdown",
   "id": "6b02dd07-9ef3-49c9-bbf8-901e71d1bc38",
   "metadata": {},
   "source": [
    "We can combine the RandomForestRegressor with gradient boosting, such as GradientBoostingRegressor or AdaBoostRegressor, to improve predictive accuracy. These ensemble methods can help boost the performance of our model. "
   ]
  },
  {
   "cell_type": "markdown",
   "id": "cc3dee47-8d14-45de-9105-bf91a145bee5",
   "metadata": {},
   "source": [
    "#### Train a RandomForestRegressor model with GradientBoosting"
   ]
  },
  {
   "cell_type": "code",
   "execution_count": 32,
   "id": "0dc770ca-7b4c-4160-b7c5-c85634134a6d",
   "metadata": {},
   "outputs": [
    {
     "name": "stderr",
     "output_type": "stream",
     "text": [
      "/Users/marina/Documents/Marina/Bootcamp/Week_9/Final_project/final_env/lib/python3.11/site-packages/sklearn/ensemble/_base.py:156: FutureWarning: `base_estimator` was renamed to `estimator` in version 1.2 and will be removed in 1.4.\n",
      "  warnings.warn(\n",
      "/Users/marina/Documents/Marina/Bootcamp/Week_9/Final_project/final_env/lib/python3.11/site-packages/sklearn/ensemble/_base.py:156: FutureWarning: `base_estimator` was renamed to `estimator` in version 1.2 and will be removed in 1.4.\n",
      "  warnings.warn(\n",
      "/Users/marina/Documents/Marina/Bootcamp/Week_9/Final_project/final_env/lib/python3.11/site-packages/sklearn/ensemble/_base.py:156: FutureWarning: `base_estimator` was renamed to `estimator` in version 1.2 and will be removed in 1.4.\n",
      "  warnings.warn(\n",
      "/Users/marina/Documents/Marina/Bootcamp/Week_9/Final_project/final_env/lib/python3.11/site-packages/sklearn/ensemble/_base.py:156: FutureWarning: `base_estimator` was renamed to `estimator` in version 1.2 and will be removed in 1.4.\n",
      "  warnings.warn(\n",
      "/Users/marina/Documents/Marina/Bootcamp/Week_9/Final_project/final_env/lib/python3.11/site-packages/sklearn/ensemble/_base.py:156: FutureWarning: `base_estimator` was renamed to `estimator` in version 1.2 and will be removed in 1.4.\n",
      "  warnings.warn(\n",
      "/Users/marina/Documents/Marina/Bootcamp/Week_9/Final_project/final_env/lib/python3.11/site-packages/sklearn/ensemble/_base.py:156: FutureWarning: `base_estimator` was renamed to `estimator` in version 1.2 and will be removed in 1.4.\n",
      "  warnings.warn(\n",
      "/Users/marina/Documents/Marina/Bootcamp/Week_9/Final_project/final_env/lib/python3.11/site-packages/sklearn/ensemble/_base.py:156: FutureWarning: `base_estimator` was renamed to `estimator` in version 1.2 and will be removed in 1.4.\n",
      "  warnings.warn(\n",
      "/Users/marina/Documents/Marina/Bootcamp/Week_9/Final_project/final_env/lib/python3.11/site-packages/sklearn/ensemble/_base.py:156: FutureWarning: `base_estimator` was renamed to `estimator` in version 1.2 and will be removed in 1.4.\n",
      "  warnings.warn(\n",
      "/Users/marina/Documents/Marina/Bootcamp/Week_9/Final_project/final_env/lib/python3.11/site-packages/sklearn/ensemble/_base.py:156: FutureWarning: `base_estimator` was renamed to `estimator` in version 1.2 and will be removed in 1.4.\n",
      "  warnings.warn(\n",
      "/Users/marina/Documents/Marina/Bootcamp/Week_9/Final_project/final_env/lib/python3.11/site-packages/sklearn/ensemble/_base.py:156: FutureWarning: `base_estimator` was renamed to `estimator` in version 1.2 and will be removed in 1.4.\n",
      "  warnings.warn(\n",
      "/Users/marina/Documents/Marina/Bootcamp/Week_9/Final_project/final_env/lib/python3.11/site-packages/sklearn/ensemble/_base.py:156: FutureWarning: `base_estimator` was renamed to `estimator` in version 1.2 and will be removed in 1.4.\n",
      "  warnings.warn(\n",
      "/Users/marina/Documents/Marina/Bootcamp/Week_9/Final_project/final_env/lib/python3.11/site-packages/sklearn/ensemble/_base.py:156: FutureWarning: `base_estimator` was renamed to `estimator` in version 1.2 and will be removed in 1.4.\n",
      "  warnings.warn(\n",
      "/Users/marina/Documents/Marina/Bootcamp/Week_9/Final_project/final_env/lib/python3.11/site-packages/sklearn/ensemble/_base.py:156: FutureWarning: `base_estimator` was renamed to `estimator` in version 1.2 and will be removed in 1.4.\n",
      "  warnings.warn(\n",
      "/Users/marina/Documents/Marina/Bootcamp/Week_9/Final_project/final_env/lib/python3.11/site-packages/sklearn/ensemble/_base.py:156: FutureWarning: `base_estimator` was renamed to `estimator` in version 1.2 and will be removed in 1.4.\n",
      "  warnings.warn(\n",
      "/Users/marina/Documents/Marina/Bootcamp/Week_9/Final_project/final_env/lib/python3.11/site-packages/sklearn/ensemble/_base.py:156: FutureWarning: `base_estimator` was renamed to `estimator` in version 1.2 and will be removed in 1.4.\n",
      "  warnings.warn(\n",
      "/Users/marina/Documents/Marina/Bootcamp/Week_9/Final_project/final_env/lib/python3.11/site-packages/sklearn/ensemble/_base.py:156: FutureWarning: `base_estimator` was renamed to `estimator` in version 1.2 and will be removed in 1.4.\n",
      "  warnings.warn(\n",
      "/Users/marina/Documents/Marina/Bootcamp/Week_9/Final_project/final_env/lib/python3.11/site-packages/sklearn/ensemble/_base.py:156: FutureWarning: `base_estimator` was renamed to `estimator` in version 1.2 and will be removed in 1.4.\n",
      "  warnings.warn(\n",
      "/Users/marina/Documents/Marina/Bootcamp/Week_9/Final_project/final_env/lib/python3.11/site-packages/sklearn/ensemble/_base.py:156: FutureWarning: `base_estimator` was renamed to `estimator` in version 1.2 and will be removed in 1.4.\n",
      "  warnings.warn(\n",
      "/Users/marina/Documents/Marina/Bootcamp/Week_9/Final_project/final_env/lib/python3.11/site-packages/sklearn/ensemble/_base.py:156: FutureWarning: `base_estimator` was renamed to `estimator` in version 1.2 and will be removed in 1.4.\n",
      "  warnings.warn(\n",
      "/Users/marina/Documents/Marina/Bootcamp/Week_9/Final_project/final_env/lib/python3.11/site-packages/sklearn/ensemble/_base.py:156: FutureWarning: `base_estimator` was renamed to `estimator` in version 1.2 and will be removed in 1.4.\n",
      "  warnings.warn(\n",
      "/Users/marina/Documents/Marina/Bootcamp/Week_9/Final_project/final_env/lib/python3.11/site-packages/sklearn/ensemble/_base.py:156: FutureWarning: `base_estimator` was renamed to `estimator` in version 1.2 and will be removed in 1.4.\n",
      "  warnings.warn(\n",
      "/Users/marina/Documents/Marina/Bootcamp/Week_9/Final_project/final_env/lib/python3.11/site-packages/sklearn/ensemble/_base.py:156: FutureWarning: `base_estimator` was renamed to `estimator` in version 1.2 and will be removed in 1.4.\n",
      "  warnings.warn(\n",
      "/Users/marina/Documents/Marina/Bootcamp/Week_9/Final_project/final_env/lib/python3.11/site-packages/sklearn/ensemble/_base.py:156: FutureWarning: `base_estimator` was renamed to `estimator` in version 1.2 and will be removed in 1.4.\n",
      "  warnings.warn(\n",
      "/Users/marina/Documents/Marina/Bootcamp/Week_9/Final_project/final_env/lib/python3.11/site-packages/joblib/externals/loky/process_executor.py:752: UserWarning: A worker stopped while some jobs were given to the executor. This can be caused by a too short worker timeout or by a memory leak.\n",
      "  warnings.warn(\n",
      "/Users/marina/Documents/Marina/Bootcamp/Week_9/Final_project/final_env/lib/python3.11/site-packages/sklearn/ensemble/_base.py:156: FutureWarning: `base_estimator` was renamed to `estimator` in version 1.2 and will be removed in 1.4.\n",
      "  warnings.warn(\n",
      "/Users/marina/Documents/Marina/Bootcamp/Week_9/Final_project/final_env/lib/python3.11/site-packages/sklearn/ensemble/_base.py:156: FutureWarning: `base_estimator` was renamed to `estimator` in version 1.2 and will be removed in 1.4.\n",
      "  warnings.warn(\n",
      "/Users/marina/Documents/Marina/Bootcamp/Week_9/Final_project/final_env/lib/python3.11/site-packages/sklearn/ensemble/_base.py:156: FutureWarning: `base_estimator` was renamed to `estimator` in version 1.2 and will be removed in 1.4.\n",
      "  warnings.warn(\n",
      "/Users/marina/Documents/Marina/Bootcamp/Week_9/Final_project/final_env/lib/python3.11/site-packages/sklearn/ensemble/_base.py:156: FutureWarning: `base_estimator` was renamed to `estimator` in version 1.2 and will be removed in 1.4.\n",
      "  warnings.warn(\n",
      "/Users/marina/Documents/Marina/Bootcamp/Week_9/Final_project/final_env/lib/python3.11/site-packages/sklearn/ensemble/_base.py:156: FutureWarning: `base_estimator` was renamed to `estimator` in version 1.2 and will be removed in 1.4.\n",
      "  warnings.warn(\n",
      "/Users/marina/Documents/Marina/Bootcamp/Week_9/Final_project/final_env/lib/python3.11/site-packages/sklearn/ensemble/_base.py:156: FutureWarning: `base_estimator` was renamed to `estimator` in version 1.2 and will be removed in 1.4.\n",
      "  warnings.warn(\n",
      "/Users/marina/Documents/Marina/Bootcamp/Week_9/Final_project/final_env/lib/python3.11/site-packages/sklearn/ensemble/_base.py:156: FutureWarning: `base_estimator` was renamed to `estimator` in version 1.2 and will be removed in 1.4.\n",
      "  warnings.warn(\n",
      "/Users/marina/Documents/Marina/Bootcamp/Week_9/Final_project/final_env/lib/python3.11/site-packages/sklearn/ensemble/_base.py:156: FutureWarning: `base_estimator` was renamed to `estimator` in version 1.2 and will be removed in 1.4.\n",
      "  warnings.warn(\n",
      "/Users/marina/Documents/Marina/Bootcamp/Week_9/Final_project/final_env/lib/python3.11/site-packages/sklearn/ensemble/_base.py:156: FutureWarning: `base_estimator` was renamed to `estimator` in version 1.2 and will be removed in 1.4.\n",
      "  warnings.warn(\n",
      "/Users/marina/Documents/Marina/Bootcamp/Week_9/Final_project/final_env/lib/python3.11/site-packages/sklearn/ensemble/_base.py:156: FutureWarning: `base_estimator` was renamed to `estimator` in version 1.2 and will be removed in 1.4.\n",
      "  warnings.warn(\n",
      "/Users/marina/Documents/Marina/Bootcamp/Week_9/Final_project/final_env/lib/python3.11/site-packages/sklearn/ensemble/_base.py:156: FutureWarning: `base_estimator` was renamed to `estimator` in version 1.2 and will be removed in 1.4.\n",
      "  warnings.warn(\n",
      "/Users/marina/Documents/Marina/Bootcamp/Week_9/Final_project/final_env/lib/python3.11/site-packages/sklearn/ensemble/_base.py:156: FutureWarning: `base_estimator` was renamed to `estimator` in version 1.2 and will be removed in 1.4.\n",
      "  warnings.warn(\n",
      "/Users/marina/Documents/Marina/Bootcamp/Week_9/Final_project/final_env/lib/python3.11/site-packages/sklearn/ensemble/_base.py:156: FutureWarning: `base_estimator` was renamed to `estimator` in version 1.2 and will be removed in 1.4.\n",
      "  warnings.warn(\n",
      "/Users/marina/Documents/Marina/Bootcamp/Week_9/Final_project/final_env/lib/python3.11/site-packages/sklearn/ensemble/_base.py:156: FutureWarning: `base_estimator` was renamed to `estimator` in version 1.2 and will be removed in 1.4.\n",
      "  warnings.warn(\n",
      "/Users/marina/Documents/Marina/Bootcamp/Week_9/Final_project/final_env/lib/python3.11/site-packages/sklearn/ensemble/_base.py:156: FutureWarning: `base_estimator` was renamed to `estimator` in version 1.2 and will be removed in 1.4.\n",
      "  warnings.warn(\n",
      "/Users/marina/Documents/Marina/Bootcamp/Week_9/Final_project/final_env/lib/python3.11/site-packages/sklearn/ensemble/_base.py:156: FutureWarning: `base_estimator` was renamed to `estimator` in version 1.2 and will be removed in 1.4.\n",
      "  warnings.warn(\n",
      "/Users/marina/Documents/Marina/Bootcamp/Week_9/Final_project/final_env/lib/python3.11/site-packages/sklearn/ensemble/_base.py:156: FutureWarning: `base_estimator` was renamed to `estimator` in version 1.2 and will be removed in 1.4.\n",
      "  warnings.warn(\n",
      "/Users/marina/Documents/Marina/Bootcamp/Week_9/Final_project/final_env/lib/python3.11/site-packages/sklearn/ensemble/_base.py:156: FutureWarning: `base_estimator` was renamed to `estimator` in version 1.2 and will be removed in 1.4.\n",
      "  warnings.warn(\n",
      "/Users/marina/Documents/Marina/Bootcamp/Week_9/Final_project/final_env/lib/python3.11/site-packages/sklearn/ensemble/_base.py:156: FutureWarning: `base_estimator` was renamed to `estimator` in version 1.2 and will be removed in 1.4.\n",
      "  warnings.warn(\n",
      "/Users/marina/Documents/Marina/Bootcamp/Week_9/Final_project/final_env/lib/python3.11/site-packages/sklearn/ensemble/_base.py:156: FutureWarning: `base_estimator` was renamed to `estimator` in version 1.2 and will be removed in 1.4.\n",
      "  warnings.warn(\n",
      "/Users/marina/Documents/Marina/Bootcamp/Week_9/Final_project/final_env/lib/python3.11/site-packages/sklearn/ensemble/_base.py:156: FutureWarning: `base_estimator` was renamed to `estimator` in version 1.2 and will be removed in 1.4.\n",
      "  warnings.warn(\n",
      "/Users/marina/Documents/Marina/Bootcamp/Week_9/Final_project/final_env/lib/python3.11/site-packages/sklearn/ensemble/_base.py:156: FutureWarning: `base_estimator` was renamed to `estimator` in version 1.2 and will be removed in 1.4.\n",
      "  warnings.warn(\n",
      "/Users/marina/Documents/Marina/Bootcamp/Week_9/Final_project/final_env/lib/python3.11/site-packages/sklearn/ensemble/_base.py:156: FutureWarning: `base_estimator` was renamed to `estimator` in version 1.2 and will be removed in 1.4.\n",
      "  warnings.warn(\n",
      "/Users/marina/Documents/Marina/Bootcamp/Week_9/Final_project/final_env/lib/python3.11/site-packages/sklearn/ensemble/_base.py:156: FutureWarning: `base_estimator` was renamed to `estimator` in version 1.2 and will be removed in 1.4.\n",
      "  warnings.warn(\n"
     ]
    }
   ],
   "source": [
    "from sklearn.ensemble import AdaBoostRegressor\n",
    "from sklearn.model_selection import GridSearchCV\n",
    "\n",
    "# Create an AdaBoostRegressor using RandomForestRegressor as the base estimator\n",
    "ada_rf = AdaBoostRegressor(base_estimator=rf_model, random_state=42)\n",
    "\n",
    "# Define hyperparameters for the AdaBoostRegressor\n",
    "ada_params = {\n",
    "    'n_estimators': [50, 100, 200],\n",
    "    'learning_rate': [0.01, 0.1, 0.2],\n",
    "}\n",
    "\n",
    "# Perform hyperparameter tuning for the AdaBoostRegressor\n",
    "ada_grid_search = GridSearchCV(ada_rf, ada_params, cv=5, scoring='neg_mean_squared_error', n_jobs=-1)\n",
    "ada_grid_search.fit(X_train, y_train)\n",
    "\n",
    "# Get the best hyperparameters\n",
    "best_ada_params = ada_grid_search.best_params_\n",
    "\n",
    "# Train a new AdaBoostRegressor with the best hyperparameters\n",
    "best_ada_rf_model = AdaBoostRegressor(base_estimator=rf_model, random_state=42, **best_ada_params)\n",
    "best_ada_rf_model.fit(X_train, y_train)\n",
    "\n",
    "# Make predictions with the best AdaBoostRegressor model\n",
    "ada_rf_predictions = best_ada_rf_model.predict(X_test)"
   ]
  },
  {
   "cell_type": "code",
   "execution_count": 33,
   "id": "6fc68a88-f9b3-4e73-9707-ee924058754c",
   "metadata": {},
   "outputs": [
    {
     "name": "stdout",
     "output_type": "stream",
     "text": [
      "AdaBoostRegressor with RandomForest as Base Estimator:\n",
      "Mean Squared Error (MSE): 2639445576.13\n",
      "Root Mean Squared Error (RMSE): 51375.53\n",
      "Mean Absolute Error (MAE): 38401.13\n",
      "R-squared (R^2): 0.37\n"
     ]
    }
   ],
   "source": [
    "# Compute model metrics for the AdaBoostRegressor with RandomForest base estimator\n",
    "ada_rf_mse = mean_squared_error(y_test, ada_rf_predictions)\n",
    "ada_rf_rmse = np.sqrt(ada_rf_mse)\n",
    "ada_rf_mae = mean_absolute_error(y_test, ada_rf_predictions)\n",
    "ada_rf_r2 = r2_score(y_test, ada_rf_predictions)\n",
    "\n",
    "# Print the evaluation metrics\n",
    "print(\"AdaBoostRegressor with RandomForest as Base Estimator:\")\n",
    "print(f\"Mean Squared Error (MSE): {ada_rf_mse:.2f}\")\n",
    "print(f\"Root Mean Squared Error (RMSE): {ada_rf_rmse:.2f}\")\n",
    "print(f\"Mean Absolute Error (MAE): {ada_rf_mae:.2f}\")\n",
    "print(f\"R-squared (R^2): {ada_rf_r2:.2f}\")"
   ]
  },
  {
   "cell_type": "code",
   "execution_count": null,
   "id": "803f5e91-f454-4155-b44b-ccf30e2c4e51",
   "metadata": {},
   "outputs": [],
   "source": []
  },
  {
   "cell_type": "code",
   "execution_count": null,
   "id": "bd385981-5515-4f8a-87b3-306d30737c5e",
   "metadata": {},
   "outputs": [],
   "source": []
  },
  {
   "cell_type": "code",
   "execution_count": null,
   "id": "b4b788d3-82b6-4f05-9d42-e2f5018aeb18",
   "metadata": {},
   "outputs": [],
   "source": []
  },
  {
   "cell_type": "code",
   "execution_count": null,
   "id": "8157e917-f4ee-43d6-a335-2ea8b37ef37f",
   "metadata": {},
   "outputs": [],
   "source": []
  },
  {
   "cell_type": "code",
   "execution_count": null,
   "id": "c25c5c33-502d-458f-8c61-e7c6aacbbe43",
   "metadata": {},
   "outputs": [],
   "source": []
  },
  {
   "cell_type": "code",
   "execution_count": null,
   "id": "db729629-6990-4025-a2ac-a6eba719f2cd",
   "metadata": {},
   "outputs": [],
   "source": []
  },
  {
   "cell_type": "code",
   "execution_count": null,
   "id": "3c3c71b3-8054-41a7-9c94-8f4c3f30e2a6",
   "metadata": {},
   "outputs": [],
   "source": []
  }
 ],
 "metadata": {
  "kernelspec": {
   "display_name": "Python 3 (ipykernel)",
   "language": "python",
   "name": "python3"
  },
  "language_info": {
   "codemirror_mode": {
    "name": "ipython",
    "version": 3
   },
   "file_extension": ".py",
   "mimetype": "text/x-python",
   "name": "python",
   "nbconvert_exporter": "python",
   "pygments_lexer": "ipython3",
   "version": "3.11.0"
  }
 },
 "nbformat": 4,
 "nbformat_minor": 5
}
